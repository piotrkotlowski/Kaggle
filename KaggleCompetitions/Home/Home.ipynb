{
 "cells": [
  {
   "cell_type": "code",
   "execution_count": 8,
   "id": "432230f6-4680-4230-8efd-07d50e9b485c",
   "metadata": {},
   "outputs": [],
   "source": [
    "import numpy as np\n",
    "import pandas as pd \n",
    "import sklearn \n",
    "import matplotlib.pyplot as plt\n",
    "import seaborn as sns\n",
    "from sklearn.ensemble import RandomForestRegressor\n",
    "from sklearn.tree import DecisionTreeRegressor\n",
    "from sklearn.model_selection import train_test_split,GridSearchCV\n",
    "from sklearn.metrics import mean_absolute_error, mean_squared_error,r2_score\n",
    "from sklearn.preprocessing import StandardScaler\n",
    "from sklearn.linear_model import ElasticNet\n",
    "from sklearn.ensemble import AdaBoostRegressor\n",
    "from sklearn.svm import SVR\n",
    "from xgboost import XGBRegressor"
   ]
  },
  {
   "cell_type": "code",
   "execution_count": 13,
   "id": "896bf034-6b5e-4a8a-8a7f-1f5693743588",
   "metadata": {},
   "outputs": [],
   "source": [
    "df=pd.read_csv(\"home-data-for-ml-course/train.csv\",sep=\",\",engine=\"python\",usecols=None)\n",
    "df_test=pd.read_csv(\"home-data-for-ml-course/test.csv\",sep=\",\",engine=\"python\",usecols=None)\n",
    "pd.set_option('display.max_rows', 100)"
   ]
  },
  {
   "cell_type": "code",
   "execution_count": 14,
   "id": "9a1c5be7-0317-4f1a-852c-832373fc309f",
   "metadata": {
    "scrolled": true
   },
   "outputs": [
    {
     "data": {
      "text/plain": [
       "Id                  0\n",
       "MSSubClass          0\n",
       "MSZoning            0\n",
       "LotFrontage       259\n",
       "LotArea             0\n",
       "Street              0\n",
       "Alley            1369\n",
       "LotShape            0\n",
       "LandContour         0\n",
       "Utilities           0\n",
       "LotConfig           0\n",
       "LandSlope           0\n",
       "Neighborhood        0\n",
       "Condition1          0\n",
       "Condition2          0\n",
       "BldgType            0\n",
       "HouseStyle          0\n",
       "OverallQual         0\n",
       "OverallCond         0\n",
       "YearBuilt           0\n",
       "YearRemodAdd        0\n",
       "RoofStyle           0\n",
       "RoofMatl            0\n",
       "Exterior1st         0\n",
       "Exterior2nd         0\n",
       "MasVnrType        872\n",
       "MasVnrArea          8\n",
       "ExterQual           0\n",
       "ExterCond           0\n",
       "Foundation          0\n",
       "BsmtQual           37\n",
       "BsmtCond           37\n",
       "BsmtExposure       38\n",
       "BsmtFinType1       37\n",
       "BsmtFinSF1          0\n",
       "BsmtFinType2       38\n",
       "BsmtFinSF2          0\n",
       "BsmtUnfSF           0\n",
       "TotalBsmtSF         0\n",
       "Heating             0\n",
       "HeatingQC           0\n",
       "CentralAir          0\n",
       "Electrical          1\n",
       "1stFlrSF            0\n",
       "2ndFlrSF            0\n",
       "LowQualFinSF        0\n",
       "GrLivArea           0\n",
       "BsmtFullBath        0\n",
       "BsmtHalfBath        0\n",
       "FullBath            0\n",
       "HalfBath            0\n",
       "BedroomAbvGr        0\n",
       "KitchenAbvGr        0\n",
       "KitchenQual         0\n",
       "TotRmsAbvGrd        0\n",
       "Functional          0\n",
       "Fireplaces          0\n",
       "FireplaceQu       690\n",
       "GarageType         81\n",
       "GarageYrBlt        81\n",
       "GarageFinish       81\n",
       "GarageCars          0\n",
       "GarageArea          0\n",
       "GarageQual         81\n",
       "GarageCond         81\n",
       "PavedDrive          0\n",
       "WoodDeckSF          0\n",
       "OpenPorchSF         0\n",
       "EnclosedPorch       0\n",
       "3SsnPorch           0\n",
       "ScreenPorch         0\n",
       "PoolArea            0\n",
       "PoolQC           1453\n",
       "Fence            1179\n",
       "MiscFeature      1406\n",
       "MiscVal             0\n",
       "MoSold              0\n",
       "YrSold              0\n",
       "SaleType            0\n",
       "SaleCondition       0\n",
       "SalePrice           0\n",
       "dtype: int64"
      ]
     },
     "execution_count": 14,
     "metadata": {},
     "output_type": "execute_result"
    }
   ],
   "source": [
    "df.isna().sum()"
   ]
  },
  {
   "cell_type": "code",
   "execution_count": 12,
   "id": "9d974a79-9f93-4c60-8d31-42dc40bee896",
   "metadata": {},
   "outputs": [
    {
     "data": {
      "text/plain": [
       "Id                 0\n",
       "MSSubClass         0\n",
       "MSZoning           4\n",
       "LotFrontage      227\n",
       "LotArea            0\n",
       "                ... \n",
       "MiscVal            0\n",
       "MoSold             0\n",
       "YrSold             0\n",
       "SaleType           1\n",
       "SaleCondition      0\n",
       "Length: 80, dtype: int64"
      ]
     },
     "execution_count": 12,
     "metadata": {},
     "output_type": "execute_result"
    }
   ],
   "source": [
    "df_test.isna().sum() "
   ]
  },
  {
   "cell_type": "code",
   "execution_count": 58,
   "id": "91c2cc20-2853-41bf-97e9-61817c620036",
   "metadata": {},
   "outputs": [],
   "source": [
    "def columnTypeChecker(df,threshold=30):\n",
    "    columnTypes=np.zeros(len(df.columns))\n",
    "    for j, name in enumerate(df.columns):\n",
    "        if df[name].unique().size<threshold:\n",
    "            columnTypes[j] = 0  # Categorical\n",
    "        else:\n",
    "            columnTypes[j] = 1  # Continuous\n",
    "\n",
    "    return columnTypes\n",
    "\n",
    "def DiscreteColumnChanger(df,vectorDiscrete):\n",
    "    DiscreteIndex=GetDiscreteIndexes(vectorDiscrete)\n",
    "    df.iloc[:,DiscreteIndex]=df.iloc[:,DiscreteIndex].fillna(\"None\")\n",
    "    return df\n",
    "\n",
    "def GetDiscreteIndexes(vectorDiscrete):\n",
    "    DiscreteIndex=[]\n",
    "    \n",
    "    for i in range(len(vectorDiscrete)): \n",
    "        if 0==vectorDiscrete[i]:\n",
    "            DiscreteIndex.append(i) \n",
    "    return DiscreteIndex\n",
    "\n",
    "def GetContinousIndexes(vectorDiscrete):\n",
    "    DiscreteIndex=[]\n",
    "    \n",
    "    for i in range(len(vectorDiscrete)): \n",
    "        if 1==vectorDiscrete[i]:\n",
    "            DiscreteIndex.append(i) \n",
    "    return DiscreteIndex\n",
    "\n",
    "\n",
    "def floatToint(df):\n",
    "    int_cols = df.select_dtypes(include=['int', 'int64', 'int32', 'int16', 'int8']).columns\n",
    "    df.loc[:, int_cols] = df.loc[:, int_cols].astype(float)\n",
    "    return df\n"
   ]
  },
  {
   "cell_type": "code",
   "execution_count": 59,
   "id": "2593468a-fe84-47c2-a67d-610a1fcb5955",
   "metadata": {},
   "outputs": [
    {
     "name": "stdout",
     "output_type": "stream",
     "text": [
      "Index(['MSSubClass', 'LotArea', 'YearBuilt', 'YearRemodAdd', 'BsmtFinSF1',\n",
      "       'BsmtFinSF2', 'BsmtUnfSF', 'TotalBsmtSF', '1stFlrSF', '2ndFlrSF',\n",
      "       'GrLivArea', 'GarageArea', 'WoodDeckSF', 'OpenPorchSF', 'EnclosedPorch',\n",
      "       'ScreenPorch', 'MiscVal', 'SalePrice', 'OverallCond', 'OverallQual',\n",
      "       'HalfBath', 'BedroomAbvGr', 'KitchenAbvGr', 'YrSold', 'MoSold',\n",
      "       'PoolArea', '3SsnPorch', 'GarageCars', 'Fireplaces', 'TotRmsAbvGrd',\n",
      "       'LowQualFinSF', 'BsmtFullBath', 'BsmtHalfBath', 'FullBath'],\n",
      "      dtype='object')\n"
     ]
    }
   ],
   "source": [
    "\n",
    "#Train data \n",
    "specialTemp = [\"OverallCond\", \"OverallQual\", \"HalfBath\", \"BedroomAbvGr\", \"KitchenAbvGr\", \"YrSold\",\n",
    "               \"MoSold\", \"PoolArea\", \"3SsnPorch\", \"GarageCars\", \"Fireplaces\", \"TotRmsAbvGrd\",\n",
    "               \"LowQualFinSF\", \"BsmtFullBath\", \"BsmtHalfBath\", \"FullBath\"]\n",
    "\n",
    "temp=df[specialTemp]\n",
    "\n",
    "ToRemove= [\"Id\",\"PoolQC\"]\n",
    "\n",
    "df.drop(ToRemove+specialTemp,axis=1,inplace=True) \n",
    "\n",
    "DiscreteCont=columnTypeChecker(df)\n",
    "df=DiscreteColumnChanger(df,DiscreteCont)\n",
    "\n",
    "df=pd.concat([df,temp],axis=1)\n",
    "df.fillna(0,inplace=True)\n",
    "df=floatToint(df)\n",
    "\n",
    "subcolumnIndexes=GetContinousIndexes(DiscreteCont)\n",
    "subcolumnsCont= [  df.columns.tolist()[i] for i in subcolumnIndexes if i<len(df.columns.tolist())]  \n",
    "\n",
    "subcolumnsCont+=specialTemp\n",
    "\n",
    "subcolumnIndexes=GetDiscreteIndexes(DiscreteCont)\n",
    "subcolumnsDiscrete= [  df.columns.tolist()[i] for i in subcolumnIndexes if i<len(df.columns.tolist())] \n",
    "\n",
    "df[subcolumnsCont]=df[subcolumnsCont].astype(np.float64)\n",
    "\n"
   ]
  },
  {
   "cell_type": "code",
   "execution_count": 79,
   "id": "6df54701-d938-44d4-9fbd-8935929ab4ee",
   "metadata": {},
   "outputs": [
    {
     "name": "stdout",
     "output_type": "stream",
     "text": [
      "Index(['MSSubClass', 'LotArea', 'YearBuilt', 'YearRemodAdd', '1stFlrSF',\n",
      "       '2ndFlrSF', 'GrLivArea', 'WoodDeckSF', 'OpenPorchSF', 'EnclosedPorch',\n",
      "       'ScreenPorch', 'MiscVal', 'OverallCond', 'OverallQual', 'HalfBath',\n",
      "       'BedroomAbvGr', 'KitchenAbvGr', 'YrSold', 'MoSold', 'PoolArea',\n",
      "       '3SsnPorch', 'Fireplaces', 'TotRmsAbvGrd', 'LowQualFinSF', 'FullBath'],\n",
      "      dtype='object')\n"
     ]
    }
   ],
   "source": [
    "#Test data \n",
    "dfTest=pd.read_csv(\"home-data-for-ml-course/test.csv\",sep=\",\",engine=\"python\",usecols=None)\n",
    "\n",
    "testId=dfTest[[\"Id\"]]\n",
    "\n",
    "temp=dfTest[specialTemp]\n",
    "\n",
    "\n",
    "dfTest.drop(ToRemove+specialTemp,axis=1,inplace=True) \n",
    "\n",
    "dfTest=pd.concat([dfTest,temp],axis=1)\n",
    "dfTest.fillna(0,inplace=True)\n",
    "dfTest=floatToint(dfTest)\n",
    "\n",
    "subcolumnIndexes=GetContinousIndexes(DiscreteCont)\n",
    "subcolumnsCont= [  dfTest.columns.tolist()[i] for i in subcolumnIndexes if i<len(dfTest.columns.tolist())]  \n",
    "\n",
    "subcolumnsCont+=specialTemp\n",
    "\n",
    "subcolumnIndexes=GetDiscreteIndexes(DiscreteCont)\n",
    "\n",
    "subcolumnsDiscrete= [  dfTest.columns.tolist()[i] for i in subcolumnIndexes if i<len(dfTest.columns.tolist())] \n",
    "\n",
    "dfTest[subcolumnsCont]=dfTest[subcolumnsCont].astype(np.float64)\n",
    "\n",
    "\n",
    "\n",
    "df[\"isTrain\"] = 1\n",
    "dfTest[\"isTrain\"] = 0\n",
    "\n",
    "combined = pd.concat([df.drop(\"SalePrice\", axis=1,inplace=False), dfTest], ignore_index=True) \n",
    "\n",
    "combined_encoded=pd.get_dummies(combined,columns=subcolumnsDiscrete)\n",
    "\n",
    "train_encoded = combined_encoded[combined_encoded[\"isTrain\"]==1].drop(\"isTrain\", axis=1)\n",
    "\n",
    "test_encoded  = combined_encoded[combined_encoded[\"isTrain\"]==0].drop(\"isTrain\", axis=1)\n",
    "\n",
    "train_encoded[\"SalePrice\"] = df[\"SalePrice\"]\n"
   ]
  },
  {
   "cell_type": "code",
   "execution_count": 9,
   "id": "a5950534-2c0f-4b95-acef-47a486a0b8ee",
   "metadata": {},
   "outputs": [],
   "source": [
    "plt.figure(figsize=(20, 14))\n",
    "sns.heatmap(df[subcolumnsCont].corr(), annot=True, cmap=\"coolwarm\", fmt=\".1f\", annot_kws={\"size\": 12})\n",
    "plt.show()"
   ]
  },
  {
   "cell_type": "code",
   "execution_count": 62,
   "id": "6e7e335e-b45a-4178-9240-f978aba1724f",
   "metadata": {},
   "outputs": [],
   "source": [
    "X=train_encoded.drop([\"SalePrice\"],axis=1).copy() \n",
    "y=train_encoded[\"SalePrice\"].copy() \n",
    "X_train, X_test, y_train, y_test = train_test_split(X, y, test_size=0.2, random_state=42)"
   ]
  },
  {
   "cell_type": "code",
   "execution_count": 63,
   "id": "f3ce2da2-cfa9-4019-849b-f4cada697bd0",
   "metadata": {
    "scrolled": true
   },
   "outputs": [],
   "source": [
    "#Forest\n",
    "def RegressionForest(X_train, X_test, y_train, y_test):\n",
    "    rf_regressor = RandomForestRegressor(n_estimators=100,  \n",
    "                                     max_depth=5,      \n",
    "                                     random_state=42,\n",
    "                                     bootstrap=True, \n",
    "                                    n_jobs=-1,verbose=0 )\n",
    "\n",
    "    rf_regressor.fit(X_train, y_train)  \n",
    "    y_pred = rf_regressor.predict(X_test)\n",
    "    mae = mean_absolute_error(y_test, y_pred)\n",
    "    mse = mean_squared_error(y_test, y_pred)\n",
    "    r2=r2_score(y_test,y_pred) \n",
    "    print(f\"Mean Absolute Error (MAE): {mae:.4f}\")\n",
    "    print(f\"Mean Squared Error (MSE): {mse:.4f}\")\n",
    "    print(f\"r^2 : {r2:.4f}\")\n",
    "    return rf_regressor\n",
    "    \n"
   ]
  },
  {
   "cell_type": "code",
   "execution_count": null,
   "id": "56b4d853-66c5-4522-8391-6df2dc99a714",
   "metadata": {},
   "outputs": [],
   "source": [
    "BestRfRegressor=RegressionForest(X_train, X_test, y_train, y_test)\n",
    "# Mean Absolute Error: 17779.7917\n",
    "# Mean Squared Error: 1010861459.6279\n",
    "# R² Score: 0.8682"
   ]
  },
  {
   "cell_type": "code",
   "execution_count": 14,
   "id": "2cdcf092-34c9-4275-b248-5d041dc5b10c",
   "metadata": {},
   "outputs": [],
   "source": [
    "#Grid Search Forest\n",
    "def GridSearchRegressionForest(X_train, X_test, y_train, y_test): \n",
    "    param_grid = {\n",
    "    'n_estimators': [50, 100, 200],  \n",
    "    'max_depth': [5, 10, None],       \n",
    "    'min_samples_split': [2, 5, 10],  \n",
    "    'min_samples_leaf': [1, 5, 10],   \n",
    "    'max_features': [1, 'sqrt', 'log2'], \n",
    "    'bootstrap': [True, False],      \n",
    "    'ccp_alpha': [0.0, 0.01, 0.1,10]    \n",
    "    } \n",
    "    \n",
    "    rf_regressor =RandomForestRegressor(random_state=42) \n",
    "    grid_search = GridSearchCV(rf_regressor , param_grid,\n",
    "                           cv=5, scoring='neg_mean_squared_error',\n",
    "                           n_jobs=3, verbose=1)\n",
    "    grid_search.fit(X_train,y_train) \n",
    "    \n",
    "    best_params = grid_search.best_params_\n",
    "    best_model = grid_search.best_estimator_\n",
    "    y_pred = best_model.predict(X_test)\n",
    "    mae = mean_absolute_error(y_test, y_pred)\n",
    "    mse = mean_squared_error(y_test, y_pred)\n",
    "    r2 = r2_score(y_test, y_pred)\n",
    "\n",
    "    print(f\"Mean Absolute Error: {mae:.4f}\")\n",
    "    print(f\"Mean Squared Error: {mse:.4f}\")\n",
    "    print(f\"R² Score: {r2:.4f}\")\n",
    "    return best_model"
   ]
  },
  {
   "cell_type": "code",
   "execution_count": 15,
   "id": "5877552c-8b14-4b36-bae5-1759e100cce7",
   "metadata": {},
   "outputs": [],
   "source": [
    "BestRfRegressor=GridSearchRegressionForest(X_train, X_test, y_train, y_test)\n",
    "# Mean Absolute Error: 17779.7917\n",
    "# Mean Squared Error: 1010861459.6279\n",
    "# R² Score: 0.8682\n"
   ]
  },
  {
   "cell_type": "code",
   "execution_count": 16,
   "id": "13c43dbd-fddd-48c8-836e-62590cf804c1",
   "metadata": {},
   "outputs": [],
   "source": [
    "rf_regressor.get_params()\n",
    "# {'bootstrap': True,\n",
    "#  'ccp_alpha': 0.0,\n",
    "#  'criterion': 'squared_error',\n",
    "#  'max_depth': 5,\n",
    "#  'max_features': 1.0,\n",
    "#  'max_leaf_nodes': None,\n",
    "#  'max_samples': None,\n",
    "#  'min_impurity_decrease': 0.0,\n",
    "#  'min_samples_leaf': 1,\n",
    "#  'min_samples_split': 2,\n",
    "#  'min_weight_fraction_leaf': 0.0,\n",
    "#  'monotonic_cst': None,\n",
    "#  'n_estimators': 100,\n",
    "#  'n_jobs': -1,\n",
    "#  'oob_score': False,\n",
    "#  'random_state': 42,\n",
    "#  'verbose': 2,\n",
    "#  'warm_start': False}"
   ]
  },
  {
   "cell_type": "code",
   "execution_count": 18,
   "id": "befbf8cb-535c-4998-a59c-9b5b943dc89c",
   "metadata": {},
   "outputs": [],
   "source": [
    "#ElasticNet\n",
    "scaler=StandardScaler()\n",
    "df_encoded_standarized=df_encoded.copy(deep=True)\n",
    "df_encoded_standarized[subcolumnsCont]=scaler.fit_transform(df[subcolumnsCont])\n",
    "\n",
    "X=df_encoded_standarized.drop([\"SalePrice\"],axis=1).copy() \n",
    "y=df_encoded_standarized[\"SalePrice\"].copy() \n",
    "\n",
    "X_train_Standarized, X_test_Standarized, y_train_Standarized, y_test_Standarized = train_test_split(X, y, test_size=0.2, random_state=42)\n",
    "\n"
   ]
  },
  {
   "cell_type": "code",
   "execution_count": 19,
   "id": "eae2ad0a-cd28-4861-a33c-6fbebaffa611",
   "metadata": {},
   "outputs": [],
   "source": [
    "def ElasticNetSearch(X_train, X_test, y_train, y_test):\n",
    "    param_grid = {\n",
    "    'alpha': [0.001, 0.01, 0,0.1, 1, 10],  \n",
    "    'l1_ratio': [0,0.1, 0.3, 0.5, 0.7, 0.9,1]  \n",
    "    }\n",
    "    grid_search = GridSearchCV(ElasticNet(), param_grid, cv=5, scoring='r2', n_jobs=3, verbose=1)\n",
    "    grid_search.fit(X_train, y_train)\n",
    "    \n",
    "    best_model = grid_search.best_estimator_\n",
    "    \n",
    "    y_pred = best_model.predict(X_test)\n",
    "    \n",
    "    r2 = r2_score(y_test, y_pred)\n",
    "    mse = mean_squared_error(y_test, y_pred)\n",
    "    mae = mean_absolute_error(y_test, y_pred)\n",
    "    print(f\"Test Set R² Score: {r2:.4f}\")\n",
    "    print(f\"Mean Squared Error (MSE): {mse:.4f}\")\n",
    "    print(f\"Mean Absolute Error (MAE): {mae:.4f}\")\n",
    "    return best_model"
   ]
  },
  {
   "cell_type": "code",
   "execution_count": 20,
   "id": "4a0ca579-2611-4c1e-ad84-5de102682d26",
   "metadata": {},
   "outputs": [],
   "source": [
    "BestRegression=ElasticNetSearch(X_train_Standarized, X_test_Standarized, y_train_Standarized, y_test_Standarized)\n",
    "# Test Set R² Score: 0.8781\n",
    "# Mean Squared Error (MSE): 0.1482\n",
    "# Mean Absolute Error (MAE): 0.2344"
   ]
  },
  {
   "cell_type": "code",
   "execution_count": 21,
   "id": "81e420ac-09b9-4bde-9b4e-b5115b4f6cbe",
   "metadata": {},
   "outputs": [],
   "source": [
    "\n"
   ]
  },
  {
   "cell_type": "code",
   "execution_count": 22,
   "id": "6b70b112-c8cf-45f7-b729-00b6a7198539",
   "metadata": {},
   "outputs": [],
   "source": [
    "#GridSearch Adaboost\n",
    "def GridSearchAdaboost(X_train,X_test,y_train,y_test):\n",
    "\n",
    "    param_grid = {\n",
    "    'n_estimators': [10, 50, 100, 200], \n",
    "    'learning_rate': [0.01, 0.1, 0.5, 1]   \n",
    "    }\n",
    "    TheModel=None \n",
    "    bestR2=0\n",
    "    for i in [3,4,5,6,7]:\n",
    "        base_learner = DecisionTreeRegressor(max_depth=i)\n",
    "        adaboost=AdaBoostRegressor(estimator=base_learner,random_state=42) \n",
    "        grid_search=GridSearchCV(adaboost,param_grid,cv=5,scoring='r2', n_jobs=3,verbose=1)\n",
    "        grid_search.fit(X_train,y_train)  \n",
    "        best_model = grid_search.best_estimator_\n",
    "        y_pred = best_model.predict(X_test)\n",
    "        \n",
    "        r2 = r2_score(y_test, y_pred)\n",
    "        if TheModel is None or bestR2<r2 : \n",
    "            TheModel=best_model\n",
    "            bestR2=r2\n",
    "            mse = mean_squared_error(y_test, y_pred)\n",
    "            mae = mean_absolute_error(y_test, y_pred)\n",
    "     \n",
    "    print(f\"Test Set R² Score: {bestR2:.4f}\")\n",
    "    print(f\"Mean Squared Error (MSE): {mse:.4f}\")\n",
    "    print(f\"Mean Absolute Error (MAE): {mae:.4f}\")\n",
    "    return TheModel"
   ]
  },
  {
   "cell_type": "code",
   "execution_count": 23,
   "id": "2ac3d5f7-b75a-4df4-ad9c-cc0b1c3d96f3",
   "metadata": {},
   "outputs": [],
   "source": [
    "BestAdaBoost=GridSearchAdaboost(X_train,X_test,y_train,y_test)\n",
    "# Test Set R² Score: 0.8977\n",
    "# Mean Squared Error (MSE): 784337851.4621\n",
    "# Mean Absolute Error (MAE): 18238.4651"
   ]
  },
  {
   "cell_type": "code",
   "execution_count": 24,
   "id": "a3ef8ca1-abb1-476e-85e5-8fb501b049ec",
   "metadata": {},
   "outputs": [],
   "source": [
    "# BestAdaBoost.get_params()\n",
    "# {'estimator__ccp_alpha': 0.0,\n",
    "#  'estimator__criterion': 'squared_error',\n",
    "#  'estimator__max_depth': 6,\n",
    "#  'estimator__max_features': None,\n",
    "#  'estimator__max_leaf_nodes': None,\n",
    "#  'estimator__min_impurity_decrease': 0.0,\n",
    "#  'estimator__min_samples_leaf': 1,\n",
    "#  'estimator__min_samples_split': 2,\n",
    "#  'estimator__min_weight_fraction_leaf': 0.0,\n",
    "#  'estimator__monotonic_cst': None,\n",
    "#  'estimator__random_state': None,\n",
    "#  'estimator__splitter': 'best',\n",
    "#  'estimator': DecisionTreeRegressor(max_depth=6),\n",
    "#  'learning_rate': 1,\n",
    "#  'loss': 'linear',\n",
    "#  'n_estimators': 100,\n",
    "#  'random_state': 42}"
   ]
  },
  {
   "cell_type": "code",
   "execution_count": 25,
   "id": "489becaf-3b41-4dc2-9a8c-e25576b883c0",
   "metadata": {},
   "outputs": [],
   "source": [
    "\n",
    "def GridSearchSVR(X_train,X_test,y_train,y_test):\n",
    "    # param_grid = {\n",
    "    # 'C': [1, 10, 100],\n",
    "    # 'epsilon': [0.01, 0.1, 1, 10],\n",
    "    # 'kernel': ['linear', 'rbf']\n",
    "    # }\n",
    "    param_grid = {\n",
    "    'C': [10, 20,40],\n",
    "    'epsilon': [0.001,0.01, 0.05],\n",
    "    'kernel': ['rbf']\n",
    "    }\n",
    "    \n",
    "    grid_search = GridSearchCV(SVR(cache_size=2000), param_grid, cv=5, scoring='r2', n_jobs=4, verbose=2)\n",
    "    grid_search.fit(X_train, y_train)\n",
    "    best_svr = grid_search.best_estimator_\n",
    "    \n",
    "    y_pred = best_svr.predict(X_test)\n",
    "    r2_best = r2_score(y_test, y_pred)\n",
    "    mse = mean_squared_error(y_test, y_pred)\n",
    "    mae = mean_absolute_error(y_test, y_pred)\n",
    "    print(f\"Test Set R² Score: {r2_best:.4f}\")\n",
    "    print(f\"Mean Squared Error (MSE): {mse:.4f}\")\n",
    "    print(f\"Mean Absolute Error (MAE): {mae:.4f}\")\n",
    "    return best_svr\n",
    "\n"
   ]
  },
  {
   "cell_type": "code",
   "execution_count": 26,
   "id": "4233502c-3c4c-4e60-b3ef-9a74b4ce88b5",
   "metadata": {
    "scrolled": true
   },
   "outputs": [],
   "source": [
    " BestSVR=GridSearchSVR(X_train_Standarized, X_test_Standarized, y_train_Standarized, y_test_Standarized)\n",
    " BestSVR.get_params()\n",
    "# Test Set R² Score: 0.8737\n",
    "# Mean Squared Error (MSE): 0.1536\n",
    "# Mean Absolute Error (MAE): 0.2182\n",
    "# {'C': 10,\n",
    "#  'cache_size': 2000,\n",
    "#  'coef0': 0.0,\n",
    "#  'degree': 3,\n",
    "#  'epsilon': 0.05,\n",
    "#  'gamma': 'scale',\n",
    "#  'kernel': 'rbf',\n",
    "#  'max_iter': -1,\n",
    "#  'shrinking': True,\n",
    "#  'tol': 0.001,\n",
    "#  'verbose': False}"
   ]
  },
  {
   "cell_type": "code",
   "execution_count": 29,
   "id": "c46dee93-bd80-4a9c-980d-e40e5c61d932",
   "metadata": {},
   "outputs": [],
   "source": [
    "# XGBoost\n",
    "\n",
    "def GridSearchXGBoost(X_train,X_test,y_train,y_test):\n",
    "    param_grid = {\n",
    "    'n_estimators': [50, 100, 200],  \n",
    "    'learning_rate': [0.01, 0.1, 0.2],  \n",
    "    'max_depth': [3, 5, 7],  \n",
    "    'subsample': [0.7, 1.0],  \n",
    "    'colsample_bytree': [0.7, 1.0],  \n",
    "    'gamma': [0, 0.1, 0.2],  \n",
    "    'reg_alpha': [0, 0.1, 0.5, 1, 10]\n",
    "    }\n",
    "\n",
    "    # param_grid = {\n",
    "    # 'n_estimators': [200,250],  \n",
    "    # 'learning_rate': [0.05, 0.1, 0.15],  \n",
    "    # 'max_depth': [7,8],  \n",
    "    # 'subsample': [0.7],  \n",
    "    # 'colsample_bytree': [0.5,0.7],  \n",
    "    # 'gamma': [0.1],  \n",
    "    # 'reg_alpha': [5,10,20]\n",
    "    # }\n",
    "    xgb = XGBRegressor(objective='reg:squarederror', random_state=42,device=\"gpu\") \n",
    "    grid_search = GridSearchCV(xgb, param_grid, cv=5, scoring='r2', n_jobs=3,verbose=1)\n",
    "    grid_search.fit(X_train, y_train)\n",
    "\n",
    "    best_Xgboost = grid_search.best_estimator_\n",
    "    \n",
    "    y_pred = best_Xgboost.predict(X_test)\n",
    "    r2_best = r2_score(y_test, y_pred)\n",
    "    mse = mean_squared_error(y_test, y_pred)\n",
    "    mae = mean_absolute_error(y_test, y_pred)\n",
    "    print(f\"Test Set R² Score: {r2_best:.4f}\")\n",
    "    print(f\"Mean Squared Error (MSE): {mse:.4f}\")\n",
    "    print(f\"Mean Absolute Error (MAE): {mae:.4f}\")\n",
    "    return best_Xgboost\n",
    "    "
   ]
  },
  {
   "cell_type": "code",
   "execution_count": null,
   "id": "b37bb077-7517-4168-b907-a0e1bcbebf8c",
   "metadata": {
    "jupyter": {
     "source_hidden": true
    },
    "scrolled": true
   },
   "outputs": [],
   "source": [
    "#BestXgBoost=GridSearchXGBoost(X_train,X_test,y_train,y_test)\n",
    "#BestXgBoost.get_params()\n",
    "# Test Set R² Score: 0.9140\n",
    "# Mean Squared Error (MSE): 659584023.5164\n",
    "# Mean Absolute Error (MAE): 15459.1116\n",
    "# {'objective': 'reg:squarederror',\n",
    "#  'base_score': None,\n",
    "#  'booster': None,\n",
    "#  'callbacks': None,\n",
    "#  'colsample_bylevel': None,\n",
    "#  'colsample_bynode': None,\n",
    "#  'colsample_bytree': 0.7,\n",
    "#  'device': None,\n",
    "#  'early_stopping_rounds': None,\n",
    "#  'enable_categorical': False,\n",
    "#  'eval_metric': None,\n",
    "#  'feature_types': None,\n",
    "#  'gamma': 0.2,\n",
    "#  'grow_policy': None,\n",
    "#  'importance_type': None,\n",
    "#  'interaction_constraints': None,\n",
    "#  'learning_rate': 0.1,\n",
    "#  'max_bin': None,\n",
    "#  'max_cat_threshold': None,\n",
    "#  'max_cat_to_onehot': None,\n",
    "#  'max_delta_step': None,\n",
    "#  'max_depth': 7,\n",
    "#  'max_leaves': None,\n",
    "#  'min_child_weight': None,\n",
    "#  'missing': nan,\n",
    "#  'monotone_constraints': None,\n",
    "#  'multi_strategy': None,\n",
    "#  'n_estimators': 200,\n",
    "#  'n_jobs': None,\n",
    "#  'num_parallel_tree': None,\n",
    "#  'random_state': 42,\n",
    "#  'reg_alpha': 10,\n",
    "#  'reg_lambda': None,\n",
    "#  'sampling_method': None,\n",
    "#  'scale_pos_weight': None,\n",
    "#  'subsample': 0.7,\n",
    "#  'tree_method': None,\n",
    "#  'validate_parameters': None,\n",
    "#  'verbosity': None}"
   ]
  },
  {
   "cell_type": "code",
   "execution_count": 73,
   "id": "9633f400-4497-47fb-80c4-0228e8291786",
   "metadata": {},
   "outputs": [],
   "source": [
    "FinalRegressor= XGBRegressor(\n",
    "    objective=\"reg:squarederror\",\n",
    "    colsample_bytree=0.7,\n",
    "    gamma=0.2,\n",
    "    learning_rate=0.1,\n",
    "    max_depth=7,\n",
    "    n_estimators=200,\n",
    "    random_state=42,\n",
    "    reg_alpha=10, \n",
    "    subsample=0.7\n",
    ")\n",
    "FinalRegressor.fit(X,y) "
   ]
  },
  {
   "cell_type": "code",
   "execution_count": 75,
   "id": "133c1344-6b9e-4efc-a32e-490b8c5b1924",
   "metadata": {},
   "outputs": [],
   "source": [
    "price_preds=FinalRegressor.predict(test_encoded)"
   ]
  },
  {
   "cell_type": "code",
   "execution_count": 76,
   "id": "74912316-92b2-4e72-b36a-a2bf2575d7f0",
   "metadata": {},
   "outputs": [
    {
     "data": {
      "text/plain": [
       "array([125917.8 , 162920.77, 176239.38, ..., 160357.1 , 110810.31,\n",
       "       236908.92], shape=(1459,), dtype=float32)"
      ]
     },
     "execution_count": 76,
     "metadata": {},
     "output_type": "execute_result"
    }
   ],
   "source": [
    "price_preds"
   ]
  },
  {
   "cell_type": "code",
   "execution_count": 86,
   "id": "a3f78a9f-cc9a-45e0-814d-39cb29a6ce82",
   "metadata": {},
   "outputs": [],
   "source": [
    "output=pd.DataFrame({'Id':testId.values.ravel() ,\n",
    "                     'SalePrice':price_preds})\n",
    "output.to_csv('submission.csv',index=False)"
   ]
  }
 ],
 "metadata": {
  "kernelspec": {
   "display_name": "Python 3 (ipykernel)",
   "language": "python",
   "name": "python3"
  },
  "language_info": {
   "codemirror_mode": {
    "name": "ipython",
    "version": 3
   },
   "file_extension": ".py",
   "mimetype": "text/x-python",
   "name": "python",
   "nbconvert_exporter": "python",
   "pygments_lexer": "ipython3",
   "version": "3.10.11"
  }
 },
 "nbformat": 4,
 "nbformat_minor": 5
}
