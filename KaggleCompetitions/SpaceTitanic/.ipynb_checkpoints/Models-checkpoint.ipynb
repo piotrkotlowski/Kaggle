{
 "cells": [
  {
   "cell_type": "code",
   "execution_count": 55,
   "id": "decd2631-b8d4-4879-ad40-09c670270da1",
   "metadata": {},
   "outputs": [],
   "source": [
    "from sklearn.base import BaseEstimator, TransformerMixin\n",
    "from sklearn.compose import ColumnTransformer\n",
    "import pandas as pd\n",
    "import numpy as np\n",
    "from sklearn.preprocessing import OneHotEncoder, StandardScaler\n",
    "from sklearn.ensemble import (\n",
    "    RandomForestClassifier, \n",
    "    AdaBoostClassifier\n",
    ")\n",
    "from sklearn.model_selection import train_test_split, GridSearchCV\n",
    "from sklearn.metrics import (\n",
    "    accuracy_score, \n",
    "    classification_report, \n",
    "    confusion_matrix, \n",
    "    ConfusionMatrixDisplay\n",
    ")\n",
    "from sklearn.tree import DecisionTreeClassifier\n",
    "from sklearn.linear_model import LogisticRegression\n",
    "pd.set_option('future.no_silent_downcasting', True)"
   ]
  },
  {
   "cell_type": "code",
   "execution_count": 56,
   "id": "3372cfbe-ccff-484a-85e9-03f087312e66",
   "metadata": {},
   "outputs": [],
   "source": [
    "\n",
    "class AgeTransfomer(BaseEstimator, TransformerMixin): \n",
    "    def __init__(self): \n",
    "        pass   \n",
    "    def fit(self, X, y=None):\n",
    "        return self  \n",
    "    def transform(self, X):\n",
    "        df=X.copy() \n",
    "        required_cols = ['Age']\n",
    "        if 'Age' not in df.columns:\n",
    "            raise ValueError(\"what are you doing man?\")\n",
    "        if  df[\"Age\"].isna().sum()!=0: \n",
    "            df['Age'] = df['Age'].fillna(df['Age'].mean()) \n",
    "        df[\"Is.Minor\"]=df[\"Age\"].apply(lambda x : 1 if x<18 else 0) \n",
    "        df[\"Is.Senior\"]=df[\"Age\"].apply(lambda x : 1 if x>60 else 0) \n",
    "        Age_normalized = (df[\"Age\"] - df[\"Age\"].mean()) / df[\"Age\"].std()\n",
    "\n",
    "        OnehotAge_df = pd.concat([df[[\"Is.Minor\"]], df[[\"Is.Senior\"]]], axis=1)\n",
    "        combined_df = pd.concat([Age_normalized, OnehotAge_df], axis=1)\n",
    "        return combined_df.to_numpy()\n",
    "\n",
    "class SpendTransformer(BaseEstimator, TransformerMixin):\n",
    "    def __init__(self):\n",
    "        self.cols = ['RoomService', 'FoodCourt', 'ShoppingMall', 'Spa', 'VRDeck']\n",
    "    \n",
    "    def fit(self, X, y=None):\n",
    "        self.means_ = X[self.cols].mean()\n",
    "        return self\n",
    "\n",
    "    def transform(self, X):\n",
    "        df = X.copy()\n",
    "\n",
    "        for col in self.cols:\n",
    "            if col not in df.columns:\n",
    "                raise ValueError(f\"Missing column: {col}\")\n",
    "        \n",
    "        for col in self.cols:\n",
    "            df[col] = df[col].fillna(self.means_[col])\n",
    "\n",
    "        df['TotalSpend'] = df[self.cols].sum(axis=1)\n",
    "        total_mean = df['TotalSpend'].mean()\n",
    "        total_std = df['TotalSpend'].std()\n",
    "        df['TotalSpendStd'] = (df['TotalSpend'] - total_mean) / total_std\n",
    "\n",
    "        return df[['TotalSpendStd']].to_numpy()\n",
    "\n",
    "class CategoricalTransformer(BaseEstimator, TransformerMixin):\n",
    "    def __init__(self):\n",
    "        self.cols = ['VIP', 'HomePlanet', 'CryoSleep', 'Destination']\n",
    "        self.fill_values = {}\n",
    "\n",
    "    def fit(self, X, y=None):\n",
    "        X_copy = X.copy()\n",
    "\n",
    "        for col in self.cols:\n",
    "            if col not in X_copy.columns:\n",
    "                raise ValueError(f\"Missing column: {col}\")\n",
    "            \n",
    "\n",
    "            if X_copy[col].dtype == 'bool':\n",
    "                self.fill_values[col] = X_copy[col].median()\n",
    "            else:\n",
    "                self.fill_values[col] = X_copy[col].mode()[0]\n",
    "        return self\n",
    "\n",
    "    def transform(self, X):\n",
    "        df = X.copy()\n",
    "        for col in self.cols:\n",
    "            df[col] = df[col].fillna(self.fill_values[col])\n",
    "        df_encoded = pd.get_dummies(df[self.cols], drop_first=True)\n",
    "\n",
    "        return df_encoded.to_numpy()\n",
    "\n",
    "class CabinTransformer(BaseEstimator, TransformerMixin):\n",
    "    def __init__(self):\n",
    "        self.onehot = OneHotEncoder(drop='first', sparse_output=False)\n",
    "        self.scaler = StandardScaler()\n",
    "        \n",
    "    def fit(self, X, y=None):\n",
    "        df = X.copy()\n",
    "        df['Cabin'] = df['Cabin'].fillna(\"0/0/0\")\n",
    "        df[['Deck', 'Num', 'Side']] = df['Cabin'].apply(lambda x: pd.Series(str(x).split('/')))\n",
    "        df['Num'] = df['Num'].astype(float)\n",
    "        \n",
    "        self.onehot.fit(df[['Deck', 'Side']])\n",
    "        self.scaler.fit(df[['Num']])\n",
    "        return self\n",
    "\n",
    "    def transform(self, X):\n",
    "        df = X.copy()\n",
    "        df['Cabin'] = df['Cabin'].fillna(\"0/0/0\")\n",
    "        df[['Deck', 'Num', 'Side']] = df['Cabin'].apply(lambda x: pd.Series(str(x).split('/')))\n",
    "        df['Num'] = df['Num'].astype(float)\n",
    "        onehot_encoded = self.onehot.transform(df[['Deck', 'Side']])\n",
    "        num_scaled = self.scaler.transform(df[['Num']])\n",
    "        return np.hstack([num_scaled, onehot_encoded])\n",
    "\n",
    "        \n",
    "def TotalTransformer():\n",
    "        column_transformer = ColumnTransformer([\n",
    "        ('cabin', CabinTransformer(),['Cabin']), \n",
    "        (\"cat\",CategoricalTransformer(),['VIP', 'HomePlanet', 'CryoSleep', 'Destination']),\n",
    "        (\"spend\",SpendTransformer(),['RoomService', 'FoodCourt', 'ShoppingMall', 'Spa', 'VRDeck']),\n",
    "        (\"age\", AgeTransfomer(),['Age'])], remainder='drop')\n",
    "        return column_transformer"
   ]
  },
  {
   "cell_type": "code",
   "execution_count": 57,
   "id": "03826191-0aff-4ba8-9eb1-99393ebaab35",
   "metadata": {},
   "outputs": [],
   "source": [
    "\n",
    "def RF_Search(X,y):\n",
    "    trans=TotalTransformer()\n",
    "    trans.fit(X) \n",
    "    x=trans.transform(X)\n",
    "    param_grid_rf = {\n",
    "    'n_estimators': [40,60,80],\n",
    "    'max_depth': [5,6,7],\n",
    "    'class_weight': ['balanced'], \n",
    "    'max_features': ['sqrt','log2']\n",
    "    }\n",
    "    model=RandomForestClassifier()\n",
    "    grid_search_rf = GridSearchCV(model, param_grid_rf, cv=5, scoring='accuracy', n_jobs=-1)\n",
    "    grid_search_rf.fit(x,y)\n",
    "    best_params=grid_search_rf.best_params_\n",
    "    return best_params"
   ]
  },
  {
   "cell_type": "code",
   "execution_count": 58,
   "id": "64ac3f02-e3cf-4c0e-ac95-0f4324122057",
   "metadata": {},
   "outputs": [
    {
     "name": "stdout",
     "output_type": "stream",
     "text": [
      "{'class_weight': 'balanced', 'max_depth': 7, 'max_features': 'sqrt', 'n_estimators': 40}\n"
     ]
    }
   ],
   "source": [
    "df=pd.read_csv(\"train.csv\") \n",
    "X=df.drop(columns=[\"Transported\"],axis=1).copy() \n",
    "y=df[\"Transported\"] \n",
    "X_train,X_test,y_train,y_test=train_test_split(X,y,stratify=y)\n",
    "print(RF_Search(X_train,y_train))"
   ]
  },
  {
   "cell_type": "code",
   "execution_count": 59,
   "id": "276420ec-2021-4f26-b72b-1ab3a3b51748",
   "metadata": {},
   "outputs": [
    {
     "name": "stdout",
     "output_type": "stream",
     "text": [
      "Classification Report:\n",
      "               precision    recall  f1-score   support\n",
      "\n",
      "       False       0.72      0.82      0.77      1079\n",
      "        True       0.79      0.69      0.74      1095\n",
      "\n",
      "    accuracy                           0.75      2174\n",
      "   macro avg       0.76      0.75      0.75      2174\n",
      "weighted avg       0.76      0.75      0.75      2174\n",
      "\n"
     ]
    }
   ],
   "source": [
    "trans=TotalTransformer()\n",
    "model=RandomForestClassifier(class_weight=\"balanced\",max_depth=7,max_features='sqrt',n_estimators=40)\n",
    "Model=Pipeline([ (\"transformer\",trans),(\"mode\",model)])\n",
    "Model.fit(X_train,y_train) \n",
    "y_pred=Model.predict(X_test) \n",
    "print(\"Classification Report:\\n\", classification_report(y_test, y_pred))"
   ]
  },
  {
   "cell_type": "code",
   "execution_count": 60,
   "id": "4681936c-09c1-476a-87f7-ba4d501c8aef",
   "metadata": {},
   "outputs": [
    {
     "name": "stdout",
     "output_type": "stream",
     "text": [
      "{'estimator': DecisionTreeClassifier(max_depth=5), 'learning_rate': 0.1, 'n_estimators': 120}\n"
     ]
    }
   ],
   "source": [
    "\n",
    "def Ada_Search(X,y):\n",
    "    trans=TotalTransformer()\n",
    "    trans.fit(X) \n",
    "    x=trans.transform(X)\n",
    "    param_grid_ada = {\n",
    "    'n_estimators': [80,120],\n",
    "    'learning_rate': [0.5,0.1],\n",
    "    'estimator': [DecisionTreeClassifier(max_depth=4), \n",
    "                          DecisionTreeClassifier(max_depth=5),DecisionTreeClassifier(max_depth=5)]\n",
    "    }\n",
    "    model=AdaBoostClassifier()\n",
    "    grid_search_rf = GridSearchCV(model, param_grid_ada, cv=5, scoring='accuracy', n_jobs=-1)\n",
    "    grid_search_rf.fit(x,y)\n",
    "    best_params=grid_search_rf.best_params_\n",
    "    return best_params\n",
    "print(Ada_Search(X_train,y_train))\n"
   ]
  },
  {
   "cell_type": "code",
   "execution_count": 61,
   "id": "8bc28d2f-32ce-4ee7-a10d-a6181b2da6ba",
   "metadata": {},
   "outputs": [
    {
     "name": "stdout",
     "output_type": "stream",
     "text": [
      "Classification Report:\n",
      "               precision    recall  f1-score   support\n",
      "\n",
      "       False       0.72      0.84      0.77      1079\n",
      "        True       0.81      0.67      0.73      1095\n",
      "\n",
      "    accuracy                           0.75      2174\n",
      "   macro avg       0.76      0.75      0.75      2174\n",
      "weighted avg       0.76      0.75      0.75      2174\n",
      "\n"
     ]
    }
   ],
   "source": [
    "model=AdaBoostClassifier(learning_rate= 0.1, n_estimators=80,estimator=DecisionTreeClassifier(max_depth=5))\n",
    "Model=Pipeline([ (\"transformer\",trans),(\"mode\",model)])\n",
    "Model.fit(X_train,y_train) \n",
    "y_pred=Model.predict(X_test) \n",
    "print(\"Classification Report:\\n\", classification_report(y_test, y_pred))"
   ]
  },
  {
   "cell_type": "code",
   "execution_count": 62,
   "id": "acc285fd-576d-4998-a4fb-a7b828658c03",
   "metadata": {},
   "outputs": [],
   "source": [
    "\n",
    "\n",
    "def Logistic_Search(X, y):\n",
    "    trans = TotalTransformer()\n",
    "    trans.fit(X)\n",
    "    x = trans.transform(X)\n",
    "    \n",
    "    param_grid_log = {\n",
    "        'C': [0.01, 0.1, 1.0, 10.0],           \n",
    "        'penalty': ['l2', 'l1'],                \n",
    "        'solver': ['liblinear'],       \n",
    "        'max_iter': [100, 200]                 \n",
    "    }\n",
    "    \n",
    "    model = LogisticRegression()\n",
    "    grid_search_log = GridSearchCV(model, param_grid_log, cv=5, scoring='accuracy', n_jobs=-1)\n",
    "    grid_search_log.fit(x, y)\n",
    "    best_params = grid_search_log.best_params_\n",
    "    \n",
    "    return best_params"
   ]
  },
  {
   "cell_type": "code",
   "execution_count": 63,
   "id": "ec273977-a11b-40c9-a572-221f3bf65978",
   "metadata": {},
   "outputs": [
    {
     "name": "stdout",
     "output_type": "stream",
     "text": [
      "Classification Report:\n",
      "               precision    recall  f1-score   support\n",
      "\n",
      "       False       0.70      0.83      0.76      1079\n",
      "        True       0.79      0.65      0.72      1095\n",
      "\n",
      "    accuracy                           0.74      2174\n",
      "   macro avg       0.75      0.74      0.74      2174\n",
      "weighted avg       0.75      0.74      0.74      2174\n",
      "\n"
     ]
    }
   ],
   "source": [
    "model=LogisticRegression(C= 0.01,max_iter=100,penalty='l2')\n",
    "Model=Pipeline([ (\"transformer\",trans),(\"mode\",model)])\n",
    "Model.fit(X_train,y_train) \n",
    "y_pred=Model.predict(X_test) \n",
    "print(\"Classification Report:\\n\", classification_report(y_test, y_pred))"
   ]
  },
  {
   "cell_type": "code",
   "execution_count": null,
   "id": "4dda03f1-161b-48e2-ab16-d52e2db187cf",
   "metadata": {},
   "outputs": [],
   "source": []
  }
 ],
 "metadata": {
  "kernelspec": {
   "display_name": "Python 3 (ipykernel)",
   "language": "python",
   "name": "python3"
  },
  "language_info": {
   "codemirror_mode": {
    "name": "ipython",
    "version": 3
   },
   "file_extension": ".py",
   "mimetype": "text/x-python",
   "name": "python",
   "nbconvert_exporter": "python",
   "pygments_lexer": "ipython3",
   "version": "3.10.11"
  }
 },
 "nbformat": 4,
 "nbformat_minor": 5
}
