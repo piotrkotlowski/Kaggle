{
 "cells": [
  {
   "cell_type": "code",
   "execution_count": 35,
   "id": "b49afdcc-7848-4dc3-8caf-cb7633f6d475",
   "metadata": {
    "scrolled": true
   },
   "outputs": [],
   "source": [
    "import tensorflow as tf\n",
    "from sklearn.model_selection import train_test_split\n",
    "import pandas as pd \n",
    "import numpy as np\n",
    "import keras\n",
    "from tensorflow.keras import layers, models, regularizers\n",
    "import keras_tuner as kt\n",
    "from tensorflow.keras.utils import to_categorical\n",
    "from tensorflow import keras \n",
    "from tensorflow.keras import layers\n",
    "import seaborn as sns \n",
    "import matplotlib.pyplot as plt \n",
    "from tensorflow.keras.models import load_model"
   ]
  },
  {
   "cell_type": "code",
   "execution_count": null,
   "id": "2c2028eb-4596-4527-bdf1-fec4c9f14955",
   "metadata": {},
   "outputs": [],
   "source": []
  },
  {
   "cell_type": "code",
   "execution_count": 36,
   "id": "904f503d-3cba-40c9-b342-7b863a3537eb",
   "metadata": {},
   "outputs": [],
   "source": [
    "df=pd.read_csv(\"train.csv\") \n",
    "X=df.drop(columns=[\"label\"],inplace=False).copy() \n",
    "y=np.array(df[\"label\"].values.copy())\n",
    "num_classes=np.unique(y).shape[0] \n",
    "y= tf.keras.utils.to_categorical(y, num_classes=num_classes)\n"
   ]
  },
  {
   "cell_type": "code",
   "execution_count": 37,
   "id": "87c3c04d-1f3b-4b24-9af3-7a71057a3a8a",
   "metadata": {},
   "outputs": [],
   "source": [
    "X_train, X_test, y_train, y_test = train_test_split(X, y, test_size=0.2, random_state=42) "
   ]
  },
  {
   "cell_type": "code",
   "execution_count": 38,
   "id": "81aac5f3-b928-4cb1-b0ca-3c163f87d345",
   "metadata": {},
   "outputs": [],
   "source": [
    "def normalize_img(x, y): \n",
    "    x=tf.reshape(x,(28,28,1))\n",
    "    x=tf.cast(x,tf.float32)/255\n",
    "    return x,y\n",
    "\n",
    "def augment(x,y): \n",
    "    scale = tf.random.uniform([], 0.9, 1.1)\n",
    "    x = tf.image.resize(x, [int(28 * scale), int(28 * scale)])\n",
    "    x = tf.image.resize_with_crop_or_pad(x, 28, 28)\n",
    "    return x,y\n",
    "\n",
    "BATCH_SIZE = 64\n",
    "AUTOTUNE = tf.data.experimental.AUTOTUNE\n",
    "\n",
    "train_dataset = tf.data.Dataset.from_tensor_slices((X_train, y_train))\n",
    "train_dataset = (\n",
    "    train_dataset.shuffle(buffer_size=1000)\n",
    "    .map(normalize_img, num_parallel_calls=AUTOTUNE) \n",
    "    .map(augment, num_parallel_calls=tf.data.experimental.AUTOTUNE)\n",
    "    .map(lambda x, y: (x, tf.cast(y, tf.float32)))\n",
    "    .batch(batch_size=BATCH_SIZE)\n",
    "    .prefetch(buffer_size=AUTOTUNE) \n",
    ")\n",
    "\n",
    "test_dataset = tf.data.Dataset.from_tensor_slices((X_test, y_test))\n",
    "test_dataset = (\n",
    "    test_dataset\n",
    "    .map(normalize_img, num_parallel_calls=AUTOTUNE)\n",
    "    .map(augment, num_parallel_calls=tf.data.experimental.AUTOTUNE)\n",
    "    .map(lambda x, y: (x, tf.cast(y, tf.float32)))\n",
    "    .batch(batch_size=BATCH_SIZE)\n",
    "    .prefetch(buffer_size=AUTOTUNE) \n",
    ")\n",
    "\n"
   ]
  },
  {
   "cell_type": "code",
   "execution_count": 39,
   "id": "d5eb5d11-f550-48a2-bc23-7dd1afa232a7",
   "metadata": {},
   "outputs": [
    {
     "name": "stdout",
     "output_type": "stream",
     "text": [
      "(TensorSpec(shape=(None, 28, 28, 1), dtype=tf.float32, name=None), TensorSpec(shape=(None, 10), dtype=tf.float32, name=None))\n"
     ]
    }
   ],
   "source": [
    "print(train_dataset.element_spec)"
   ]
  },
  {
   "cell_type": "code",
   "execution_count": 40,
   "id": "f1cbbffc-a2f8-489e-842c-e60ec96cf626",
   "metadata": {},
   "outputs": [],
   "source": [
    "def buildModel(): \n",
    "    inputs = layers.Input(shape=(28,28,1))\n",
    "    x=layers.Conv2D(32,(3,3))(inputs) \n",
    "    x=layers.BatchNormalization()(x) \n",
    "    x = keras.activations.relu(x)\n",
    "    x = layers.MaxPooling2D()(x)\n",
    "    x= layers.Conv2D(64, 5, padding='same')(x)\n",
    "    x = layers.BatchNormalization()(x)\n",
    "    x = keras.activations.relu(x)\n",
    "    x = layers.Conv2D(128, 3)(x)\n",
    "    x = layers.BatchNormalization()(x)\n",
    "    x = keras.activations.relu(x)\n",
    "    x= layers.Flatten()(x)\n",
    "    x = layers.Dense(64, activation='relu')(x)\n",
    "    outputs = layers.Dense(10 ,activation='softmax')(x)\n",
    "    model=keras.Model(inputs=inputs,outputs=outputs) \n",
    "    return model"
   ]
  },
  {
   "cell_type": "code",
   "execution_count": 41,
   "id": "a1cdf7c8-15ad-47bd-8059-a39d371fcc3c",
   "metadata": {
    "scrolled": true
   },
   "outputs": [],
   "source": [
    "model=buildModel() \n",
    "model.compile( \n",
    "    loss=keras.losses.CategoricalCrossentropy, \n",
    "    optimizer=\"adam\", \n",
    "    metrics=[\"accuracy\"])\n",
    "#history=model.fit(train_dataset,epochs=10,verbose=2,validation_data=test_dataset)"
   ]
  },
  {
   "cell_type": "code",
   "execution_count": 42,
   "id": "fcd99a3b-f22e-46f9-8ed9-47db69c5433f",
   "metadata": {},
   "outputs": [],
   "source": [
    "def plotTrainingModel(history): \n",
    "    \n",
    "    TrainingAccuracy = history.history[\"accuracy\"]\n",
    "    ValidationAccuracy = history.history[\"val_accuracy\"]\n",
    "    numOfEpochs=len(TrainingAccuracy)\n",
    "    epochVector=range(1,numOfEpochs+1)\n",
    "\n",
    "    TraingLoss=history.history['loss'] \n",
    "\n",
    "    fig, axes = plt.subplots(1, 2, figsize=(12, 5)) \n",
    "\n",
    "    axes[0].set_title(\"ACCURACY\")\n",
    "    sns.scatterplot(ax=axes[0],x=epochVector,y=TrainingAccuracy,color=\"blue\")\n",
    "    sns.lineplot(ax=axes[0],x=epochVector,y=TrainingAccuracy,marker=\"o\", label=\"TrainingAccuracy\")\n",
    "    sns.scatterplot(ax=axes[0],x=epochVector,y=ValidationAccuracy,color=\"red\")\n",
    "    sns.lineplot(ax=axes[0],x=epochVector,y=ValidationAccuracy,marker=\"o\", label=\"ValidationAccuracy\")\n",
    "\n",
    "    axes[1].set_title(\"LOSS\")\n",
    "    sns.scatterplot(ax=axes[1],x=epochVector,y=TraingLoss,color=\"blue\")\n",
    "    sns.lineplot(ax=axes[1],x=epochVector,y=TraingLoss,marker=\"o\", label=\"Loss\")\n",
    "    \n",
    "    plt.tight_layout()\n",
    "    plt.legend() \n",
    "    plt.show()"
   ]
  },
  {
   "cell_type": "code",
   "execution_count": 43,
   "id": "973b99b1-6ed3-4b08-ac93-2faeab262484",
   "metadata": {
    "scrolled": true
   },
   "outputs": [],
   "source": [
    "#plotTrainingModel(history)"
   ]
  },
  {
   "cell_type": "code",
   "execution_count": 44,
   "id": "0116d70d-2e45-4d8c-8c78-fdd5a86303ed",
   "metadata": {},
   "outputs": [],
   "source": [
    "def build_model(hp):\n",
    "    inputs = layers.Input(shape=(28, 28, 1))\n",
    "\n",
    "    x = layers.Conv2D(\n",
    "        filters=hp.Int('filters_1', min_value=16, max_value=128, step=16),\n",
    "        kernel_size=(3, 3),\n",
    "        activation='relu'\n",
    "    )(inputs)\n",
    "    \n",
    "    x = layers.BatchNormalization()(x)\n",
    "    \n",
    "    x = layers.MaxPooling2D()(x)\n",
    "\n",
    "    x = layers.Dropout(rate=hp.Float('dropout_1', min_value=0, max_value=0.05, step=0.01))(x)\n",
    "    x = layers.Conv2D(\n",
    "        filters=hp.Int('filters_2', min_value=32, max_value=256, step=32),\n",
    "        kernel_size=hp.Choice('kernel_size_2', values=[3, 5]),  \n",
    "        activation='relu',\n",
    "        padding='same'\n",
    "    )(x)\n",
    "    x = layers.BatchNormalization()(x)\n",
    "\n",
    "    x = layers.Dropout(rate=hp.Float('dropout_2', min_value=0, max_value=0.05, step=0.01))(x)\n",
    "    x = layers.Conv2D(\n",
    "        filters=hp.Int('filters_3', min_value=64, max_value=512, step=64),\n",
    "        kernel_size=3,\n",
    "        activation='relu'\n",
    "    )(x) \n",
    "    \n",
    "    x = layers.BatchNormalization()(x)\n",
    "\n",
    "  \n",
    "    x = layers.Flatten()(x)\n",
    "\n",
    "    \n",
    "    x = layers.Dense(\n",
    "        units=hp.Int('dense_units', min_value=32, max_value=256, step=32),\n",
    "        activation='relu'\n",
    "    )(x)\n",
    "\n",
    "    outputs = layers.Dense(10, activation='softmax')(x)\n",
    "\n",
    "    model = keras.Model(inputs=inputs, outputs=outputs)\n",
    "\n",
    "    model.compile(\n",
    "        optimizer=keras.optimizers.Adam(\n",
    "            learning_rate=hp.Choice('learning_rate', values=[1e-2, 1e-3, 1e-4])),\n",
    "        loss=keras.losses.CategoricalCrossentropy,metrics=['accuracy'])\n",
    "\n",
    "    return model\n"
   ]
  },
  {
   "cell_type": "code",
   "execution_count": 49,
   "id": "c28f7aef-d4bd-4455-9b10-9eeb0a3b55ac",
   "metadata": {},
   "outputs": [],
   "source": [
    "tuner = kt.RandomSearch(\n",
    "    build_model,  \n",
    "    objective='val_accuracy',  \n",
    "    max_trials=8,  \n",
    "    executions_per_trial=1, \n",
    "    directory='hyperparam_tuning',\n",
    "    project_name='cnn_tuning'\n",
    ")"
   ]
  },
  {
   "cell_type": "code",
   "execution_count": 50,
   "id": "a9410d82-7e48-44f0-bcfd-103d14abd206",
   "metadata": {},
   "outputs": [],
   "source": [
    "callbacks_list = [\n",
    "    keras.callbacks.EarlyStopping(\n",
    "        monitor=\"val_accuracy\",\n",
    "        patience=2\n",
    "    )\n",
    "]"
   ]
  },
  {
   "cell_type": "code",
   "execution_count": 51,
   "id": "f804696a-2630-469f-94a5-d4672797586a",
   "metadata": {
    "scrolled": true
   },
   "outputs": [
    {
     "name": "stdout",
     "output_type": "stream",
     "text": [
      "Trial 8 Complete [00h 10m 36s]\n",
      "val_accuracy: 0.9891666769981384\n",
      "\n",
      "Best val_accuracy So Far: 0.9897618889808655\n",
      "Total elapsed time: 01h 23m 56s\n"
     ]
    }
   ],
   "source": [
    "tuner.search(train_dataset,\n",
    "             epochs=15,\n",
    "             validation_data=test_dataset, \n",
    "                callbacks=callbacks_list)"
   ]
  },
  {
   "cell_type": "code",
   "execution_count": 55,
   "id": "826d06dc-901d-422a-a6ee-aaed16b6a61f",
   "metadata": {},
   "outputs": [
    {
     "name": "stderr",
     "output_type": "stream",
     "text": [
      "C:\\Users\\Ricardo\\Programming\\PycharmProjects\\PythonProject1\\.venv\\lib\\site-packages\\keras\\src\\saving\\saving_lib.py:757: UserWarning: Skipping variable loading for optimizer 'adam', because it has 2 variables whereas the saved optimizer has 34 variables. \n",
      "  saveable.load_own_variables(weights_store.get(inner_path))\n"
     ]
    }
   ],
   "source": [
    "best_model = tuner.get_best_models(num_models=1)[0]\n",
    "\n",
    "best_hps = tuner.get_best_hyperparameters(num_trials=1)[0]\n",
    "final_model = build_model(best_hps)"
   ]
  },
  {
   "cell_type": "markdown",
   "id": "827c4322-0683-4e3d-b76a-7896c8dd4105",
   "metadata": {},
   "source": [
    "## FINAL"
   ]
  },
  {
   "cell_type": "code",
   "execution_count": 56,
   "id": "d05c9347-3408-4255-acd0-e9ce63b735bf",
   "metadata": {},
   "outputs": [],
   "source": [
    "final_earlystop_cb = keras.callbacks.EarlyStopping(\n",
    "    monitor=\"accuracy\",    \n",
    "    patience=2,\n",
    "    restore_best_weights=True\n",
    ")"
   ]
  },
  {
   "cell_type": "code",
   "execution_count": 1,
   "id": "df967d7b-5520-40dc-92bd-abf99120b0f4",
   "metadata": {},
   "outputs": [
    {
     "ename": "NameError",
     "evalue": "name 'df' is not defined",
     "output_type": "error",
     "traceback": [
      "\u001b[0;31m---------------------------------------------------------------------------\u001b[0m",
      "\u001b[0;31mNameError\u001b[0m                                 Traceback (most recent call last)",
      "Cell \u001b[0;32mIn[1], line 1\u001b[0m\n\u001b[0;32m----> 1\u001b[0m X_full \u001b[38;5;241m=\u001b[39m \u001b[43mdf\u001b[49m\u001b[38;5;241m.\u001b[39mdrop(columns\u001b[38;5;241m=\u001b[39m[\u001b[38;5;124m\"\u001b[39m\u001b[38;5;124mlabel\u001b[39m\u001b[38;5;124m\"\u001b[39m])\u001b[38;5;241m.\u001b[39mvalues  \n\u001b[1;32m      2\u001b[0m y_full \u001b[38;5;241m=\u001b[39m df[\u001b[38;5;124m\"\u001b[39m\u001b[38;5;124mlabel\u001b[39m\u001b[38;5;124m\"\u001b[39m]\u001b[38;5;241m.\u001b[39mvalues                \n\u001b[1;32m      4\u001b[0m num_classes \u001b[38;5;241m=\u001b[39m \u001b[38;5;28mlen\u001b[39m(np\u001b[38;5;241m.\u001b[39munique(y_full))\n",
      "\u001b[0;31mNameError\u001b[0m: name 'df' is not defined"
     ]
    }
   ],
   "source": [
    "X_full = df.drop(columns=[\"label\"]).values  \n",
    "y_full = df[\"label\"].values                \n",
    "\n",
    "num_classes = len(np.unique(y_full))\n",
    "y_full_oh = tf.keras.utils.to_categorical(y_full, num_classes=num_classes)\n",
    "full_train_dataset = tf.data.Dataset.from_tensor_slices((X_full, y_full_oh))\n",
    "full_train_dataset = (\n",
    "    full_train_dataset\n",
    "    .shuffle(buffer_size=10000)\n",
    "    .map(normalize_img, num_parallel_calls=AUTOTUNE)\n",
    "    .map(augment, num_parallel_calls=tf.data.experimental.AUTOTUNE)\n",
    "    .batch(BATCH_SIZE)\n",
    "    .prefetch(AUTOTUNE)\n",
    ")\n",
    "history = final_model.fit(\n",
    "    full_train_dataset,\n",
    "    epochs=20,\n",
    "    verbose=2,\n",
    "    callbacks=[final_earlystop_cb]\n",
    ")\n",
    "stopped_epoch = final_earlystop_cb.stopped_epoch\n",
    "patience     = final_earlystop_cb.patience\n",
    "best_epoch   = stopped_epoch - patience + 1  \n",
    "\n",
    "print(f\"Best epoch from final training: {best_epoch}\")\n",
    "\n",
    "final_model = build_model(best_hps)\n",
    "history_final = final_model.fit(\n",
    "    full_train_dataset,\n",
    "    epochs=best_epoch,\n",
    "    verbose=2\n",
    ")"
   ]
  },
  {
   "cell_type": "code",
   "execution_count": 61,
   "id": "a95d5daa-6918-4f90-9c77-0f72f65aaa57",
   "metadata": {},
   "outputs": [
    {
     "name": "stdout",
     "output_type": "stream",
     "text": [
      "\u001b[1m438/438\u001b[0m \u001b[32m━━━━━━━━━━━━━━━━━━━━\u001b[0m\u001b[37m\u001b[0m \u001b[1m10s\u001b[0m 22ms/step\n",
      "Sample Predictions: [2 0 9 0 3 7 0 3 0 3]\n",
      "Predictions saved to submission.csv!\n"
     ]
    }
   ],
   "source": [
    "df_test = pd.read_csv(\"test.csv\")\n",
    "X_test = df_test.values  \n",
    "\n",
    "def normalize_test(x):\n",
    "    x = tf.reshape(x, (28, 28, 1))\n",
    "    x = tf.cast(x, tf.float32) / 255.0\n",
    "    return x\n",
    "\n",
    "test_dataset = tf.data.Dataset.from_tensor_slices(X_test)\n",
    "test_dataset = (\n",
    "    test_dataset\n",
    "    .map(normalize_test, num_parallel_calls=AUTOTUNE)\n",
    "    .batch(BATCH_SIZE)\n",
    "    .prefetch(AUTOTUNE)\n",
    ")\n",
    "\n",
    "predictions = final_model.predict(test_dataset)\n",
    "predicted_classes = np.argmax(predictions, axis=1)\n",
    "\n",
    "print(\"Sample Predictions:\", predicted_classes[:10])\n",
    "\n",
    "submission_df = pd.DataFrame({\n",
    "    \"ImageId\": np.arange(1, len(predicted_classes) + 1),\n",
    "    \"Label\": predicted_classes\n",
    "})\n",
    "submission_df.to_csv(\"submission.csv\", index=False)"
   ]
  },
  {
   "cell_type": "code",
   "execution_count": null,
   "id": "ed7cba5f-eef8-4dcf-83bd-5fb3f68dba7c",
   "metadata": {},
   "outputs": [],
   "source": []
  }
 ],
 "metadata": {
  "kernelspec": {
   "display_name": "Python 3 (ipykernel)",
   "language": "python",
   "name": "python3"
  },
  "language_info": {
   "codemirror_mode": {
    "name": "ipython",
    "version": 3
   },
   "file_extension": ".py",
   "mimetype": "text/x-python",
   "name": "python",
   "nbconvert_exporter": "python",
   "pygments_lexer": "ipython3",
   "version": "3.10.11"
  }
 },
 "nbformat": 4,
 "nbformat_minor": 5
}
