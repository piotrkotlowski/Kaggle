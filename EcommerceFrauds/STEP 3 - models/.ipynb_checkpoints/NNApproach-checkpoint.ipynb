{
 "cells": [
  {
   "cell_type": "code",
   "execution_count": 1,
   "id": "cfb28f09-5e44-4f0e-a68c-868cc562c87c",
   "metadata": {},
   "outputs": [
    {
     "name": "stderr",
     "output_type": "stream",
     "text": [
      "2025-04-08 08:42:15.300123: I tensorflow/core/platform/cpu_feature_guard.cc:210] This TensorFlow binary is optimized to use available CPU instructions in performance-critical operations.\n",
      "To enable the following instructions: AVX2 FMA, in other operations, rebuild TensorFlow with the appropriate compiler flags.\n"
     ]
    }
   ],
   "source": [
    "import tensorflow as tf\n",
    "from tensorflow.keras import layers, models, regularizers, Input\n",
    "import keras\n",
    "from tensorflow.keras.metrics import Recall\n",
    "from ColumnTransformers import *"
   ]
  },
  {
   "cell_type": "code",
   "execution_count": 2,
   "id": "55d018cc-ffe4-476e-91e8-43f73ff85de8",
   "metadata": {},
   "outputs": [],
   "source": [
    "def BuildModel(input_shape): \n",
    "    inputs=Input(shape=(input_shape,)) \n",
    "    x=layers.Dense(64,activation='relu')(inputs) \n",
    "    x = layers.Dropout(0.02)(x)\n",
    "    x=layers.Dense(32,activation='relu')(x) \n",
    "    x=layers.Dense(16,activation='relu')(x) \n",
    "    OutputLayer=layers.Dense(1,activation='sigmoid')(x) \n",
    "    \n",
    "    model=models.Model(inputs=inputs,outputs=OutputLayer) \n",
    "    model.compile(optimizer='adam', loss='binary_crossentropy', metrics=['accuracy', Recall()])\n",
    "    return model"
   ]
  },
  {
   "cell_type": "code",
   "execution_count": 8,
   "id": "adf6b012-2587-4c29-b8ee-63fa325a0498",
   "metadata": {},
   "outputs": [],
   "source": [
    "x_train,y_train=getTrainingData() \n",
    "OurTransformer=PipeLineColumnTransformer() \n",
    "OurTransformer.fit(x_train)\n",
    "x_train=OurTransformer.transform(x_train)\n",
    "\n",
    "x_test,y_test=getTestData() \n",
    "OurTransformer.fit(x_test)\n",
    "x_test=OurTransformer.transform(x_test)\n",
    "\n",
    "# callbacks_list = [\n",
    "#     keras.callbacks.EarlyStopping(\n",
    "#         monitor=\"val_accuracy\",\n",
    "#         patience=4\n",
    "#     )\n",
    "# ]\n"
   ]
  },
  {
   "cell_type": "code",
   "execution_count": 15,
   "id": "e843510d-6daa-4d75-864d-32d58c87fbe8",
   "metadata": {},
   "outputs": [],
   "source": [
    "BATCH_SIZE = 64\n",
    "AUTOTUNE = tf.data.experimental.AUTOTUNE\n",
    "\n",
    "train_dataset = tf.data.Dataset.from_tensor_slices((x_train, y_train))\n",
    "train_dataset = (\n",
    "    train_dataset.shuffle(buffer_size=1000)\n",
    "    .batch(batch_size=BATCH_SIZE)\n",
    "    .prefetch(buffer_size=AUTOTUNE) \n",
    ")\n",
    "\n",
    "test_dataset = tf.data.Dataset.from_tensor_slices((x_test,y_test))\n",
    "test_dataset = (\n",
    "    test_dataset.shuffle(buffer_size=1000)\n",
    "    .batch(batch_size=BATCH_SIZE)\n",
    "    .prefetch(buffer_size=AUTOTUNE) \n",
    ")"
   ]
  },
  {
   "cell_type": "code",
   "execution_count": 16,
   "id": "d3d8cb2f-be87-4bf1-b740-e238df340fbf",
   "metadata": {},
   "outputs": [
    {
     "name": "stdout",
     "output_type": "stream",
     "text": [
      "Epoch 1/15\n",
      "\u001b[1m2297/2297\u001b[0m \u001b[32m━━━━━━━━━━━━━━━━━━━━\u001b[0m\u001b[37m\u001b[0m \u001b[1m5s\u001b[0m 2ms/step - accuracy: 0.9327 - loss: 0.2285 - recall_3: 0.1657 - val_accuracy: 0.9510 - val_loss: 0.1838 - val_recall_3: 0.3884\n",
      "Epoch 2/15\n",
      "\u001b[1m2297/2297\u001b[0m \u001b[32m━━━━━━━━━━━━━━━━━━━━\u001b[0m\u001b[37m\u001b[0m \u001b[1m3s\u001b[0m 1ms/step - accuracy: 0.9530 - loss: 0.1782 - recall_3: 0.3977 - val_accuracy: 0.9505 - val_loss: 0.1856 - val_recall_3: 0.3956\n",
      "Epoch 3/15\n",
      "\u001b[1m2297/2297\u001b[0m \u001b[32m━━━━━━━━━━━━━━━━━━━━\u001b[0m\u001b[37m\u001b[0m \u001b[1m3s\u001b[0m 2ms/step - accuracy: 0.9536 - loss: 0.1756 - recall_3: 0.4023 - val_accuracy: 0.9529 - val_loss: 0.1782 - val_recall_3: 0.3914\n",
      "Epoch 4/15\n",
      "\u001b[1m2297/2297\u001b[0m \u001b[32m━━━━━━━━━━━━━━━━━━━━\u001b[0m\u001b[37m\u001b[0m \u001b[1m4s\u001b[0m 2ms/step - accuracy: 0.9545 - loss: 0.1734 - recall_3: 0.4063 - val_accuracy: 0.9526 - val_loss: 0.1803 - val_recall_3: 0.3978\n",
      "Epoch 5/15\n",
      "\u001b[1m2297/2297\u001b[0m \u001b[32m━━━━━━━━━━━━━━━━━━━━\u001b[0m\u001b[37m\u001b[0m \u001b[1m4s\u001b[0m 2ms/step - accuracy: 0.9543 - loss: 0.1731 - recall_3: 0.4054 - val_accuracy: 0.9531 - val_loss: 0.1770 - val_recall_3: 0.3943\n",
      "Epoch 6/15\n",
      "\u001b[1m2297/2297\u001b[0m \u001b[32m━━━━━━━━━━━━━━━━━━━━\u001b[0m\u001b[37m\u001b[0m \u001b[1m4s\u001b[0m 2ms/step - accuracy: 0.9544 - loss: 0.1716 - recall_3: 0.4049 - val_accuracy: 0.9534 - val_loss: 0.1773 - val_recall_3: 0.3923\n",
      "Epoch 7/15\n",
      "\u001b[1m2297/2297\u001b[0m \u001b[32m━━━━━━━━━━━━━━━━━━━━\u001b[0m\u001b[37m\u001b[0m \u001b[1m4s\u001b[0m 2ms/step - accuracy: 0.9544 - loss: 0.1710 - recall_3: 0.4076 - val_accuracy: 0.9531 - val_loss: 0.1777 - val_recall_3: 0.3919\n",
      "Epoch 8/15\n",
      "\u001b[1m2297/2297\u001b[0m \u001b[32m━━━━━━━━━━━━━━━━━━━━\u001b[0m\u001b[37m\u001b[0m \u001b[1m4s\u001b[0m 2ms/step - accuracy: 0.9546 - loss: 0.1703 - recall_3: 0.4069 - val_accuracy: 0.9533 - val_loss: 0.1771 - val_recall_3: 0.3972\n",
      "Epoch 9/15\n",
      "\u001b[1m2297/2297\u001b[0m \u001b[32m━━━━━━━━━━━━━━━━━━━━\u001b[0m\u001b[37m\u001b[0m \u001b[1m4s\u001b[0m 2ms/step - accuracy: 0.9548 - loss: 0.1697 - recall_3: 0.4094 - val_accuracy: 0.9530 - val_loss: 0.1786 - val_recall_3: 0.3939\n",
      "Epoch 10/15\n",
      "\u001b[1m2297/2297\u001b[0m \u001b[32m━━━━━━━━━━━━━━━━━━━━\u001b[0m\u001b[37m\u001b[0m \u001b[1m4s\u001b[0m 2ms/step - accuracy: 0.9548 - loss: 0.1695 - recall_3: 0.4087 - val_accuracy: 0.9532 - val_loss: 0.1770 - val_recall_3: 0.3956\n",
      "Epoch 11/15\n",
      "\u001b[1m2297/2297\u001b[0m \u001b[32m━━━━━━━━━━━━━━━━━━━━\u001b[0m\u001b[37m\u001b[0m \u001b[1m4s\u001b[0m 2ms/step - accuracy: 0.9548 - loss: 0.1691 - recall_3: 0.4091 - val_accuracy: 0.9527 - val_loss: 0.1789 - val_recall_3: 0.3989\n",
      "Epoch 12/15\n",
      "\u001b[1m2297/2297\u001b[0m \u001b[32m━━━━━━━━━━━━━━━━━━━━\u001b[0m\u001b[37m\u001b[0m \u001b[1m4s\u001b[0m 2ms/step - accuracy: 0.9551 - loss: 0.1684 - recall_3: 0.4101 - val_accuracy: 0.9530 - val_loss: 0.1771 - val_recall_3: 0.3921\n",
      "Epoch 13/15\n",
      "\u001b[1m2297/2297\u001b[0m \u001b[32m━━━━━━━━━━━━━━━━━━━━\u001b[0m\u001b[37m\u001b[0m \u001b[1m4s\u001b[0m 2ms/step - accuracy: 0.9550 - loss: 0.1680 - recall_3: 0.4089 - val_accuracy: 0.9530 - val_loss: 0.1771 - val_recall_3: 0.3943\n",
      "Epoch 14/15\n",
      "\u001b[1m2297/2297\u001b[0m \u001b[32m━━━━━━━━━━━━━━━━━━━━\u001b[0m\u001b[37m\u001b[0m \u001b[1m4s\u001b[0m 2ms/step - accuracy: 0.9551 - loss: 0.1676 - recall_3: 0.4110 - val_accuracy: 0.9531 - val_loss: 0.1777 - val_recall_3: 0.3921\n",
      "Epoch 15/15\n",
      "\u001b[1m2297/2297\u001b[0m \u001b[32m━━━━━━━━━━━━━━━━━━━━\u001b[0m\u001b[37m\u001b[0m \u001b[1m4s\u001b[0m 2ms/step - accuracy: 0.9553 - loss: 0.1669 - recall_3: 0.4115 - val_accuracy: 0.9526 - val_loss: 0.1803 - val_recall_3: 0.3987\n"
     ]
    }
   ],
   "source": [
    "Model=BuildModel(x_train.shape[1]) \n",
    "history=Model.fit(train_dataset,\n",
    "            epochs=15,\n",
    "             validation_data=test_dataset#,callbacks=callbacks_list\n",
    "                 )\n"
   ]
  },
  {
   "cell_type": "code",
   "execution_count": 13,
   "id": "24397927-46be-401b-b90e-24e49ddab2fc",
   "metadata": {},
   "outputs": [
    {
     "name": "stdout",
     "output_type": "stream",
     "text": [
      "\u001b[1m985/985\u001b[0m \u001b[32m━━━━━━━━━━━━━━━━━━━━\u001b[0m\u001b[37m\u001b[0m \u001b[1m1s\u001b[0m 540us/step\n"
     ]
    },
    {
     "data": {
      "image/png": "[encoded data removed]",
      "text/plain": [
       "<Figure size 500x400 with 2 Axes>"
      ]
     },
     "metadata": {},
     "output_type": "display_data"
    },
    {
     "name": "stdout",
     "output_type": "stream",
     "text": [
      "Classification Report:\n",
      "               precision    recall  f1-score   support\n",
      "\n",
      "           0       0.93      0.97      0.95     58463\n",
      "           1       0.08      0.04      0.05      4537\n",
      "\n",
      "    accuracy                           0.90     63000\n",
      "   macro avg       0.50      0.50      0.50     63000\n",
      "weighted avg       0.87      0.90      0.88     63000\n",
      "\n"
     ]
    }
   ],
   "source": [
    "y_pred=Model.predict(test_dataset) \n",
    "y_final=np.array(y_pred>0.5).astype(int)\n",
    "PredictionQualityInfo(y_final,y_test)"
   ]
  },
  {
   "cell_type": "code",
   "execution_count": null,
   "id": "36bce3ca-15f3-4ff2-87be-3d2c00c67f64",
   "metadata": {},
   "outputs": [],
   "source": []
  }
 ],
 "metadata": {
  "kernelspec": {
   "display_name": "Python 3 (ipykernel)",
   "language": "python",
   "name": "python3"
  },
  "language_info": {
   "codemirror_mode": {
    "name": "ipython",
    "version": 3
   },
   "file_extension": ".py",
   "mimetype": "text/x-python",
   "name": "python",
   "nbconvert_exporter": "python",
   "pygments_lexer": "ipython3",
   "version": "3.10.11"
  }
 },
 "nbformat": 4,
 "nbformat_minor": 5
}
