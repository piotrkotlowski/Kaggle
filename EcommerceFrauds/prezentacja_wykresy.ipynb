{
 "cells": [
  {
   "cell_type": "code",
   "execution_count": 1,
   "id": "bd9da656",
   "metadata": {},
   "outputs": [],
   "source": [
    "import pandas as pd\n",
    "import matplotlib.pyplot as plt \n",
    "import numpy as np\n",
    "import seaborn as sns"
   ]
  },
  {
   "cell_type": "code",
   "execution_count": 2,
   "id": "bd6521d5",
   "metadata": {},
   "outputs": [],
   "source": [
    "df = pd.read_csv(\"data/merged_dataset.csv\", engine=\"python\", sep=\",\")"
   ]
  },
  {
   "cell_type": "code",
   "execution_count": 3,
   "id": "80a899d0",
   "metadata": {},
   "outputs": [
    {
     "data": {
      "text/html": [
       "<div>\n",
       "<style scoped>\n",
       "    .dataframe tbody tr th:only-of-type {\n",
       "        vertical-align: middle;\n",
       "    }\n",
       "\n",
       "    .dataframe tbody tr th {\n",
       "        vertical-align: top;\n",
       "    }\n",
       "\n",
       "    .dataframe thead th {\n",
       "        text-align: right;\n",
       "    }\n",
       "</style>\n",
       "<table border=\"1\" class=\"dataframe\">\n",
       "  <thead>\n",
       "    <tr style=\"text-align: right;\">\n",
       "      <th></th>\n",
       "      <th>Transaction.Date</th>\n",
       "      <th>Transaction.Amount</th>\n",
       "      <th>Customer.Age</th>\n",
       "      <th>Is.Fraudulent</th>\n",
       "      <th>Account.Age.Days</th>\n",
       "      <th>Transaction.Hour</th>\n",
       "      <th>source</th>\n",
       "      <th>browser</th>\n",
       "      <th>sex</th>\n",
       "      <th>Payment.Method</th>\n",
       "      <th>Product.Category</th>\n",
       "      <th>Quantity</th>\n",
       "      <th>Device.Used</th>\n",
       "      <th>Address.Match</th>\n",
       "    </tr>\n",
       "  </thead>\n",
       "  <tbody>\n",
       "    <tr>\n",
       "      <th>0</th>\n",
       "      <td>2024-02-12 10:05:21</td>\n",
       "      <td>145.98</td>\n",
       "      <td>29</td>\n",
       "      <td>0</td>\n",
       "      <td>172</td>\n",
       "      <td>10</td>\n",
       "      <td>Ads</td>\n",
       "      <td>IE</td>\n",
       "      <td>F</td>\n",
       "      <td>credit card</td>\n",
       "      <td>home &amp; garden</td>\n",
       "      <td>3</td>\n",
       "      <td>mobile</td>\n",
       "      <td>1</td>\n",
       "    </tr>\n",
       "    <tr>\n",
       "      <th>1</th>\n",
       "      <td>2024-01-25 22:24:06</td>\n",
       "      <td>677.62</td>\n",
       "      <td>40</td>\n",
       "      <td>0</td>\n",
       "      <td>250</td>\n",
       "      <td>22</td>\n",
       "      <td>Direct</td>\n",
       "      <td>FireFox</td>\n",
       "      <td>M</td>\n",
       "      <td>credit card</td>\n",
       "      <td>clothing</td>\n",
       "      <td>3</td>\n",
       "      <td>desktop</td>\n",
       "      <td>1</td>\n",
       "    </tr>\n",
       "    <tr>\n",
       "      <th>2</th>\n",
       "      <td>2024-03-26 20:32:44</td>\n",
       "      <td>798.63</td>\n",
       "      <td>40</td>\n",
       "      <td>0</td>\n",
       "      <td>118</td>\n",
       "      <td>20</td>\n",
       "      <td>Ads</td>\n",
       "      <td>Chrome</td>\n",
       "      <td>M</td>\n",
       "      <td>PayPal</td>\n",
       "      <td>clothing</td>\n",
       "      <td>3</td>\n",
       "      <td>mobile</td>\n",
       "      <td>1</td>\n",
       "    </tr>\n",
       "    <tr>\n",
       "      <th>3</th>\n",
       "      <td>2024-01-07 23:14:51</td>\n",
       "      <td>314.65</td>\n",
       "      <td>34</td>\n",
       "      <td>0</td>\n",
       "      <td>187</td>\n",
       "      <td>23</td>\n",
       "      <td>SEO</td>\n",
       "      <td>IE</td>\n",
       "      <td>M</td>\n",
       "      <td>bank transfer</td>\n",
       "      <td>toys &amp; games</td>\n",
       "      <td>3</td>\n",
       "      <td>desktop</td>\n",
       "      <td>1</td>\n",
       "    </tr>\n",
       "    <tr>\n",
       "      <th>4</th>\n",
       "      <td>2024-01-19 11:01:19</td>\n",
       "      <td>119.80</td>\n",
       "      <td>11</td>\n",
       "      <td>1</td>\n",
       "      <td>5</td>\n",
       "      <td>11</td>\n",
       "      <td>Direct</td>\n",
       "      <td>Safari</td>\n",
       "      <td>M</td>\n",
       "      <td>PayPal</td>\n",
       "      <td>toys &amp; games</td>\n",
       "      <td>3</td>\n",
       "      <td>tablet</td>\n",
       "      <td>1</td>\n",
       "    </tr>\n",
       "  </tbody>\n",
       "</table>\n",
       "</div>"
      ],
      "text/plain": [
       "      Transaction.Date  Transaction.Amount  Customer.Age  Is.Fraudulent  \\\n",
       "0  2024-02-12 10:05:21              145.98            29              0   \n",
       "1  2024-01-25 22:24:06              677.62            40              0   \n",
       "2  2024-03-26 20:32:44              798.63            40              0   \n",
       "3  2024-01-07 23:14:51              314.65            34              0   \n",
       "4  2024-01-19 11:01:19              119.80            11              1   \n",
       "\n",
       "   Account.Age.Days  Transaction.Hour  source  browser sex Payment.Method  \\\n",
       "0               172                10     Ads       IE   F    credit card   \n",
       "1               250                22  Direct  FireFox   M    credit card   \n",
       "2               118                20     Ads   Chrome   M         PayPal   \n",
       "3               187                23     SEO       IE   M  bank transfer   \n",
       "4                 5                11  Direct   Safari   M         PayPal   \n",
       "\n",
       "  Product.Category  Quantity Device.Used  Address.Match  \n",
       "0    home & garden         3      mobile              1  \n",
       "1         clothing         3     desktop              1  \n",
       "2         clothing         3      mobile              1  \n",
       "3     toys & games         3     desktop              1  \n",
       "4     toys & games         3      tablet              1  "
      ]
     },
     "execution_count": 3,
     "metadata": {},
     "output_type": "execute_result"
    }
   ],
   "source": [
    "df.head()"
   ]
  },
  {
   "cell_type": "code",
   "execution_count": 47,
   "id": "8ce7549a",
   "metadata": {},
   "outputs": [],
   "source": [
    "fraud2024 = df[(df['Is.Fraudulent']==1 & df['Transaction.Date'].str.contains('2024'))]"
   ]
  },
  {
   "cell_type": "code",
   "execution_count": 49,
   "id": "21c58288",
   "metadata": {},
   "outputs": [],
   "source": [
    "gains = pd.DataFrame([['Bez wykrywania oszustw',fraud2024['Transaction.Amount'].sum()/3],['Z wykrywaniem oszustw za pomocą modelu', fraud2024['Transaction.Amount'].sample(frac=0.48,random_state=47).sum()/3]], columns=['Użycie wykrywania oszustw', 'Kwota'])"
   ]
  },
  {
   "cell_type": "code",
   "execution_count": 36,
   "id": "6c6044c9",
   "metadata": {},
   "outputs": [
    {
     "data": {
      "text/html": [
       "<div>\n",
       "<style scoped>\n",
       "    .dataframe tbody tr th:only-of-type {\n",
       "        vertical-align: middle;\n",
       "    }\n",
       "\n",
       "    .dataframe tbody tr th {\n",
       "        vertical-align: top;\n",
       "    }\n",
       "\n",
       "    .dataframe thead th {\n",
       "        text-align: right;\n",
       "    }\n",
       "</style>\n",
       "<table border=\"1\" class=\"dataframe\">\n",
       "  <thead>\n",
       "    <tr style=\"text-align: right;\">\n",
       "      <th></th>\n",
       "      <th>Usage of fraud detection</th>\n",
       "      <th>Amount</th>\n",
       "    </tr>\n",
       "  </thead>\n",
       "  <tbody>\n",
       "    <tr>\n",
       "      <th>0</th>\n",
       "      <td>Without fraud detection</td>\n",
       "      <td>9157284.60</td>\n",
       "    </tr>\n",
       "    <tr>\n",
       "      <th>1</th>\n",
       "      <td>With our fraud detection</td>\n",
       "      <td>4413590.79</td>\n",
       "    </tr>\n",
       "  </tbody>\n",
       "</table>\n",
       "</div>"
      ],
      "text/plain": [
       "   Usage of fraud detection      Amount\n",
       "0   Without fraud detection  9157284.60\n",
       "1  With our fraud detection  4413590.79"
      ]
     },
     "execution_count": 36,
     "metadata": {},
     "output_type": "execute_result"
    }
   ],
   "source": [
    "gains"
   ]
  },
  {
   "cell_type": "code",
   "execution_count": 59,
   "id": "5eedb42d",
   "metadata": {},
   "outputs": [
    {
     "data": {
      "image/png": "[encoded data removed]",
      "text/plain": [
       "<Figure size 800x500 with 1 Axes>"
      ]
     },
     "metadata": {},
     "output_type": "display_data"
    }
   ],
   "source": [
    "import matplotlib.ticker as ticker\n",
    "plt.figure(figsize=(8,5))\n",
    "ax = sns.barplot(x = gains.iloc[:,0], y = gains.iloc[:,1])\n",
    "ax.yaxis.set_major_formatter(ticker.FuncFormatter(lambda x, pos: f'${x:,.0f}'))\n",
    "plt.title('Szacowane roczne straty z oszustw bez i z użyciem modelu')\n",
    "plt.xlabel(\"\")\n",
    "plt.savefig('straty_roczne.png', bbox_inches='tight', dpi=300)\n"
   ]
  }
 ],
 "metadata": {
  "kernelspec": {
   "display_name": "base",
   "language": "python",
   "name": "python3"
  },
  "language_info": {
   "codemirror_mode": {
    "name": "ipython",
    "version": 3
   },
   "file_extension": ".py",
   "mimetype": "text/x-python",
   "name": "python",
   "nbconvert_exporter": "python",
   "pygments_lexer": "ipython3",
   "version": "3.12.4"
  }
 },
 "nbformat": 4,
 "nbformat_minor": 5
}
