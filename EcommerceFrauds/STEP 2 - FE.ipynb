{
 "cells": [
  {
   "cell_type": "markdown",
   "id": "32e88790",
   "metadata": {},
   "source": [
    "# Feature engeneering (FE)"
   ]
  },
  {
   "cell_type": "code",
   "execution_count": 1,
   "id": "31d65ce4-32f8-49b0-9df0-ff34e1ce3d0c",
   "metadata": {},
   "outputs": [],
   "source": [
    "import pandas as pd \n",
    "import seaborn as sns \n",
    "import numpy as np \n",
    "import matplotlib.pyplot as plt \n",
    "import random\n",
    "from sklearn.model_selection import train_test_split\n",
    "from sklearn.preprocessing import StandardScaler\n",
    "from imblearn.over_sampling import SMOTE\n",
    "random.seed(123) \n",
    "np.random.seed(123) "
   ]
  },
  {
   "cell_type": "code",
   "execution_count": 20,
   "id": "1e34dea9-485f-4c10-8584-e429d2a4f4d3",
   "metadata": {},
   "outputs": [],
   "source": [
    "df=pd.read_csv(\"data/TrainData.csv\",engine=\"python\", sep=\",\") "
   ]
  },
  {
   "cell_type": "code",
   "execution_count": 3,
   "id": "da036476",
   "metadata": {},
   "outputs": [
    {
     "data": {
      "text/html": [
       "<div>\n",
       "<style scoped>\n",
       "    .dataframe tbody tr th:only-of-type {\n",
       "        vertical-align: middle;\n",
       "    }\n",
       "\n",
       "    .dataframe tbody tr th {\n",
       "        vertical-align: top;\n",
       "    }\n",
       "\n",
       "    .dataframe thead th {\n",
       "        text-align: right;\n",
       "    }\n",
       "</style>\n",
       "<table border=\"1\" class=\"dataframe\">\n",
       "  <thead>\n",
       "    <tr style=\"text-align: right;\">\n",
       "      <th></th>\n",
       "      <th>Transaction.Date</th>\n",
       "      <th>Transaction.Amount</th>\n",
       "      <th>Customer.Age</th>\n",
       "      <th>Account.Age.Days</th>\n",
       "      <th>Transaction.Hour</th>\n",
       "      <th>source</th>\n",
       "      <th>browser</th>\n",
       "      <th>sex</th>\n",
       "      <th>Payment.Method</th>\n",
       "      <th>Product.Category</th>\n",
       "      <th>Quantity</th>\n",
       "      <th>Device.Used</th>\n",
       "      <th>Address.Match</th>\n",
       "      <th>Is.Fraudulent</th>\n",
       "    </tr>\n",
       "  </thead>\n",
       "  <tbody>\n",
       "    <tr>\n",
       "      <th>0</th>\n",
       "      <td>2024-03-06 20:45:56</td>\n",
       "      <td>61.82</td>\n",
       "      <td>43</td>\n",
       "      <td>258</td>\n",
       "      <td>20</td>\n",
       "      <td>Ads</td>\n",
       "      <td>FireFox</td>\n",
       "      <td>M</td>\n",
       "      <td>credit card</td>\n",
       "      <td>electronics</td>\n",
       "      <td>3</td>\n",
       "      <td>tablet</td>\n",
       "      <td>1</td>\n",
       "      <td>0</td>\n",
       "    </tr>\n",
       "    <tr>\n",
       "      <th>1</th>\n",
       "      <td>2015-03-21 14:36:45</td>\n",
       "      <td>48.00</td>\n",
       "      <td>18</td>\n",
       "      <td>12</td>\n",
       "      <td>14</td>\n",
       "      <td>Ads</td>\n",
       "      <td>Chrome</td>\n",
       "      <td>M</td>\n",
       "      <td>PayPal</td>\n",
       "      <td>home &amp; garden</td>\n",
       "      <td>2</td>\n",
       "      <td>desktop</td>\n",
       "      <td>1</td>\n",
       "      <td>0</td>\n",
       "    </tr>\n",
       "  </tbody>\n",
       "</table>\n",
       "</div>"
      ],
      "text/plain": [
       "      Transaction.Date  Transaction.Amount  Customer.Age  Account.Age.Days  \\\n",
       "0  2024-03-06 20:45:56               61.82            43               258   \n",
       "1  2015-03-21 14:36:45               48.00            18                12   \n",
       "\n",
       "   Transaction.Hour source  browser sex Payment.Method Product.Category  \\\n",
       "0                20    Ads  FireFox   M    credit card      electronics   \n",
       "1                14    Ads   Chrome   M         PayPal    home & garden   \n",
       "\n",
       "   Quantity Device.Used  Address.Match  Is.Fraudulent  \n",
       "0         3      tablet              1              0  \n",
       "1         2     desktop              1              0  "
      ]
     },
     "execution_count": 3,
     "metadata": {},
     "output_type": "execute_result"
    }
   ],
   "source": [
    "df.head(2)"
   ]
  },
  {
   "cell_type": "markdown",
   "id": "a061fca9-9dee-4704-a5c5-b24034e94e5e",
   "metadata": {},
   "source": [
    "## SMOTE - eksperymenty\n"
   ]
  },
  {
   "cell_type": "code",
   "execution_count": 21,
   "id": "c3788c2a",
   "metadata": {},
   "outputs": [
    {
     "data": {
      "text/plain": [
       "0.07200680272108843"
      ]
     },
     "execution_count": 21,
     "metadata": {},
     "output_type": "execute_result"
    }
   ],
   "source": [
    "df.loc[df[\"Is.Fraudulent\"]==1].shape[0]/df.shape[0]  # IsFraudulent ratio "
   ]
  },
  {
   "cell_type": "code",
   "execution_count": 31,
   "id": "b8290236-da00-4bea-b992-a5a0f092df52",
   "metadata": {},
   "outputs": [],
   "source": [
    "# df.drop(columns=[\"Unnamed: 0\"],inplace=True) \n",
    "\n",
    "df[\"Transaction.Date\"] = pd.to_datetime(df[\"Transaction.Date\"], format = \"ISO8601\")\n",
    "\n",
    "df['Transaction.Date_Num'] = df['Transaction.Date'].dt.year + df['Transaction.Date'].dt.dayofyear/365\n",
    "\n",
    "dfSamples=df.drop(columns=[\"Transaction.Date\"],inplace=False).copy()\n",
    "\n",
    "\n",
    "X = dfSamples.drop(\"Is.Fraudulent\", axis=1)\n",
    "y = dfSamples[\"Is.Fraudulent\"]\n",
    "\n",
    "\n",
    "Numeric=['Transaction.Date_Num','Transaction.Amount',\"Customer.Age\",'Account.Age.Days','Transaction.Hour','Quantity'] \n",
    "Categorical = [i for i in X.columns if i not in Numeric]"
   ]
  },
  {
   "cell_type": "code",
   "execution_count": 32,
   "id": "523f3fb9-5275-4898-9f11-e62fe7206519",
   "metadata": {
    "scrolled": true
   },
   "outputs": [],
   "source": [
    "scaler = StandardScaler()\n",
    "X[Numeric] = scaler.fit_transform(X[Numeric])\n"
   ]
  },
  {
   "cell_type": "code",
   "execution_count": 33,
   "id": "4c57147f-6c12-4494-bc1a-73b445583384",
   "metadata": {},
   "outputs": [],
   "source": [
    "X = pd.get_dummies(X, columns=Categorical, drop_first=True)"
   ]
  },
  {
   "cell_type": "code",
   "execution_count": 34,
   "id": "6ff91309",
   "metadata": {},
   "outputs": [
    {
     "data": {
      "text/html": [
       "<div>\n",
       "<style scoped>\n",
       "    .dataframe tbody tr th:only-of-type {\n",
       "        vertical-align: middle;\n",
       "    }\n",
       "\n",
       "    .dataframe tbody tr th {\n",
       "        vertical-align: top;\n",
       "    }\n",
       "\n",
       "    .dataframe thead th {\n",
       "        text-align: right;\n",
       "    }\n",
       "</style>\n",
       "<table border=\"1\" class=\"dataframe\">\n",
       "  <thead>\n",
       "    <tr style=\"text-align: right;\">\n",
       "      <th></th>\n",
       "      <th>Transaction.Amount</th>\n",
       "      <th>Customer.Age</th>\n",
       "      <th>Account.Age.Days</th>\n",
       "      <th>Transaction.Hour</th>\n",
       "      <th>Quantity</th>\n",
       "      <th>Transaction.Date_Num</th>\n",
       "      <th>source_Direct</th>\n",
       "      <th>source_SEO</th>\n",
       "      <th>browser_FireFox</th>\n",
       "      <th>browser_IE</th>\n",
       "      <th>...</th>\n",
       "      <th>Payment.Method_bank transfer</th>\n",
       "      <th>Payment.Method_credit card</th>\n",
       "      <th>Payment.Method_debit card</th>\n",
       "      <th>Product.Category_electronics</th>\n",
       "      <th>Product.Category_health &amp; beauty</th>\n",
       "      <th>Product.Category_home &amp; garden</th>\n",
       "      <th>Product.Category_toys &amp; games</th>\n",
       "      <th>Device.Used_mobile</th>\n",
       "      <th>Device.Used_tablet</th>\n",
       "      <th>Address.Match_1</th>\n",
       "    </tr>\n",
       "  </thead>\n",
       "  <tbody>\n",
       "    <tr>\n",
       "      <th>0</th>\n",
       "      <td>-0.328311</td>\n",
       "      <td>0.974597</td>\n",
       "      <td>1.391450</td>\n",
       "      <td>1.234657</td>\n",
       "      <td>-0.003593</td>\n",
       "      <td>1.009688</td>\n",
       "      <td>False</td>\n",
       "      <td>False</td>\n",
       "      <td>True</td>\n",
       "      <td>False</td>\n",
       "      <td>...</td>\n",
       "      <td>False</td>\n",
       "      <td>True</td>\n",
       "      <td>False</td>\n",
       "      <td>True</td>\n",
       "      <td>False</td>\n",
       "      <td>False</td>\n",
       "      <td>False</td>\n",
       "      <td>False</td>\n",
       "      <td>True</td>\n",
       "      <td>True</td>\n",
       "    </tr>\n",
       "    <tr>\n",
       "      <th>1</th>\n",
       "      <td>-0.392467</td>\n",
       "      <td>-1.685614</td>\n",
       "      <td>-1.053281</td>\n",
       "      <td>0.370993</td>\n",
       "      <td>-0.708811</td>\n",
       "      <td>-1.055489</td>\n",
       "      <td>False</td>\n",
       "      <td>False</td>\n",
       "      <td>False</td>\n",
       "      <td>False</td>\n",
       "      <td>...</td>\n",
       "      <td>False</td>\n",
       "      <td>False</td>\n",
       "      <td>False</td>\n",
       "      <td>False</td>\n",
       "      <td>False</td>\n",
       "      <td>True</td>\n",
       "      <td>False</td>\n",
       "      <td>False</td>\n",
       "      <td>False</td>\n",
       "      <td>True</td>\n",
       "    </tr>\n",
       "    <tr>\n",
       "      <th>2</th>\n",
       "      <td>1.236994</td>\n",
       "      <td>-1.047163</td>\n",
       "      <td>1.033685</td>\n",
       "      <td>0.658881</td>\n",
       "      <td>-1.414029</td>\n",
       "      <td>1.012214</td>\n",
       "      <td>False</td>\n",
       "      <td>False</td>\n",
       "      <td>False</td>\n",
       "      <td>False</td>\n",
       "      <td>...</td>\n",
       "      <td>True</td>\n",
       "      <td>False</td>\n",
       "      <td>False</td>\n",
       "      <td>False</td>\n",
       "      <td>False</td>\n",
       "      <td>False</td>\n",
       "      <td>True</td>\n",
       "      <td>False</td>\n",
       "      <td>False</td>\n",
       "      <td>True</td>\n",
       "    </tr>\n",
       "    <tr>\n",
       "      <th>3</th>\n",
       "      <td>-0.313549</td>\n",
       "      <td>-0.621530</td>\n",
       "      <td>-1.023467</td>\n",
       "      <td>-0.924504</td>\n",
       "      <td>-0.003593</td>\n",
       "      <td>-1.007506</td>\n",
       "      <td>False</td>\n",
       "      <td>False</td>\n",
       "      <td>False</td>\n",
       "      <td>True</td>\n",
       "      <td>...</td>\n",
       "      <td>False</td>\n",
       "      <td>True</td>\n",
       "      <td>False</td>\n",
       "      <td>False</td>\n",
       "      <td>True</td>\n",
       "      <td>False</td>\n",
       "      <td>False</td>\n",
       "      <td>True</td>\n",
       "      <td>False</td>\n",
       "      <td>True</td>\n",
       "    </tr>\n",
       "    <tr>\n",
       "      <th>4</th>\n",
       "      <td>-0.494595</td>\n",
       "      <td>0.761780</td>\n",
       "      <td>-0.586198</td>\n",
       "      <td>-0.204783</td>\n",
       "      <td>1.406842</td>\n",
       "      <td>-1.060540</td>\n",
       "      <td>False</td>\n",
       "      <td>False</td>\n",
       "      <td>False</td>\n",
       "      <td>False</td>\n",
       "      <td>...</td>\n",
       "      <td>False</td>\n",
       "      <td>False</td>\n",
       "      <td>False</td>\n",
       "      <td>True</td>\n",
       "      <td>False</td>\n",
       "      <td>False</td>\n",
       "      <td>False</td>\n",
       "      <td>False</td>\n",
       "      <td>False</td>\n",
       "      <td>True</td>\n",
       "    </tr>\n",
       "    <tr>\n",
       "      <th>...</th>\n",
       "      <td>...</td>\n",
       "      <td>...</td>\n",
       "      <td>...</td>\n",
       "      <td>...</td>\n",
       "      <td>...</td>\n",
       "      <td>...</td>\n",
       "      <td>...</td>\n",
       "      <td>...</td>\n",
       "      <td>...</td>\n",
       "      <td>...</td>\n",
       "      <td>...</td>\n",
       "      <td>...</td>\n",
       "      <td>...</td>\n",
       "      <td>...</td>\n",
       "      <td>...</td>\n",
       "      <td>...</td>\n",
       "      <td>...</td>\n",
       "      <td>...</td>\n",
       "      <td>...</td>\n",
       "      <td>...</td>\n",
       "      <td>...</td>\n",
       "    </tr>\n",
       "    <tr>\n",
       "      <th>146995</th>\n",
       "      <td>-0.545659</td>\n",
       "      <td>0.123330</td>\n",
       "      <td>-0.943963</td>\n",
       "      <td>-0.492672</td>\n",
       "      <td>1.406842</td>\n",
       "      <td>-0.990459</td>\n",
       "      <td>True</td>\n",
       "      <td>False</td>\n",
       "      <td>True</td>\n",
       "      <td>False</td>\n",
       "      <td>...</td>\n",
       "      <td>False</td>\n",
       "      <td>False</td>\n",
       "      <td>False</td>\n",
       "      <td>False</td>\n",
       "      <td>False</td>\n",
       "      <td>False</td>\n",
       "      <td>True</td>\n",
       "      <td>False</td>\n",
       "      <td>True</td>\n",
       "      <td>True</td>\n",
       "    </tr>\n",
       "    <tr>\n",
       "      <th>146996</th>\n",
       "      <td>-0.401751</td>\n",
       "      <td>-0.940755</td>\n",
       "      <td>-0.427191</td>\n",
       "      <td>0.083105</td>\n",
       "      <td>-0.708811</td>\n",
       "      <td>-0.991090</td>\n",
       "      <td>False</td>\n",
       "      <td>True</td>\n",
       "      <td>False</td>\n",
       "      <td>True</td>\n",
       "      <td>...</td>\n",
       "      <td>False</td>\n",
       "      <td>False</td>\n",
       "      <td>False</td>\n",
       "      <td>True</td>\n",
       "      <td>False</td>\n",
       "      <td>False</td>\n",
       "      <td>False</td>\n",
       "      <td>True</td>\n",
       "      <td>False</td>\n",
       "      <td>True</td>\n",
       "    </tr>\n",
       "    <tr>\n",
       "      <th>146997</th>\n",
       "      <td>-0.327476</td>\n",
       "      <td>0.016921</td>\n",
       "      <td>-0.536508</td>\n",
       "      <td>-1.644224</td>\n",
       "      <td>0.701624</td>\n",
       "      <td>-0.981620</td>\n",
       "      <td>False</td>\n",
       "      <td>False</td>\n",
       "      <td>False</td>\n",
       "      <td>False</td>\n",
       "      <td>...</td>\n",
       "      <td>False</td>\n",
       "      <td>False</td>\n",
       "      <td>True</td>\n",
       "      <td>False</td>\n",
       "      <td>True</td>\n",
       "      <td>False</td>\n",
       "      <td>False</td>\n",
       "      <td>True</td>\n",
       "      <td>False</td>\n",
       "      <td>True</td>\n",
       "    </tr>\n",
       "    <tr>\n",
       "      <th>146998</th>\n",
       "      <td>0.421637</td>\n",
       "      <td>1.187414</td>\n",
       "      <td>-0.496757</td>\n",
       "      <td>1.090713</td>\n",
       "      <td>-0.708811</td>\n",
       "      <td>0.984434</td>\n",
       "      <td>False</td>\n",
       "      <td>False</td>\n",
       "      <td>False</td>\n",
       "      <td>True</td>\n",
       "      <td>...</td>\n",
       "      <td>True</td>\n",
       "      <td>False</td>\n",
       "      <td>False</td>\n",
       "      <td>False</td>\n",
       "      <td>False</td>\n",
       "      <td>False</td>\n",
       "      <td>True</td>\n",
       "      <td>True</td>\n",
       "      <td>False</td>\n",
       "      <td>True</td>\n",
       "    </tr>\n",
       "    <tr>\n",
       "      <th>146999</th>\n",
       "      <td>-0.487400</td>\n",
       "      <td>0.761780</td>\n",
       "      <td>-0.745205</td>\n",
       "      <td>0.514937</td>\n",
       "      <td>-0.003593</td>\n",
       "      <td>0.975595</td>\n",
       "      <td>False</td>\n",
       "      <td>False</td>\n",
       "      <td>False</td>\n",
       "      <td>False</td>\n",
       "      <td>...</td>\n",
       "      <td>False</td>\n",
       "      <td>False</td>\n",
       "      <td>True</td>\n",
       "      <td>True</td>\n",
       "      <td>False</td>\n",
       "      <td>False</td>\n",
       "      <td>False</td>\n",
       "      <td>False</td>\n",
       "      <td>False</td>\n",
       "      <td>True</td>\n",
       "    </tr>\n",
       "  </tbody>\n",
       "</table>\n",
       "<p>147000 rows × 23 columns</p>\n",
       "</div>"
      ],
      "text/plain": [
       "        Transaction.Amount  Customer.Age  Account.Age.Days  Transaction.Hour  \\\n",
       "0                -0.328311      0.974597          1.391450          1.234657   \n",
       "1                -0.392467     -1.685614         -1.053281          0.370993   \n",
       "2                 1.236994     -1.047163          1.033685          0.658881   \n",
       "3                -0.313549     -0.621530         -1.023467         -0.924504   \n",
       "4                -0.494595      0.761780         -0.586198         -0.204783   \n",
       "...                    ...           ...               ...               ...   \n",
       "146995           -0.545659      0.123330         -0.943963         -0.492672   \n",
       "146996           -0.401751     -0.940755         -0.427191          0.083105   \n",
       "146997           -0.327476      0.016921         -0.536508         -1.644224   \n",
       "146998            0.421637      1.187414         -0.496757          1.090713   \n",
       "146999           -0.487400      0.761780         -0.745205          0.514937   \n",
       "\n",
       "        Quantity  Transaction.Date_Num  source_Direct  source_SEO  \\\n",
       "0      -0.003593              1.009688          False       False   \n",
       "1      -0.708811             -1.055489          False       False   \n",
       "2      -1.414029              1.012214          False       False   \n",
       "3      -0.003593             -1.007506          False       False   \n",
       "4       1.406842             -1.060540          False       False   \n",
       "...          ...                   ...            ...         ...   \n",
       "146995  1.406842             -0.990459           True       False   \n",
       "146996 -0.708811             -0.991090          False        True   \n",
       "146997  0.701624             -0.981620          False       False   \n",
       "146998 -0.708811              0.984434          False       False   \n",
       "146999 -0.003593              0.975595          False       False   \n",
       "\n",
       "        browser_FireFox  browser_IE  ...  Payment.Method_bank transfer  \\\n",
       "0                  True       False  ...                         False   \n",
       "1                 False       False  ...                         False   \n",
       "2                 False       False  ...                          True   \n",
       "3                 False        True  ...                         False   \n",
       "4                 False       False  ...                         False   \n",
       "...                 ...         ...  ...                           ...   \n",
       "146995             True       False  ...                         False   \n",
       "146996            False        True  ...                         False   \n",
       "146997            False       False  ...                         False   \n",
       "146998            False        True  ...                          True   \n",
       "146999            False       False  ...                         False   \n",
       "\n",
       "        Payment.Method_credit card  Payment.Method_debit card  \\\n",
       "0                             True                      False   \n",
       "1                            False                      False   \n",
       "2                            False                      False   \n",
       "3                             True                      False   \n",
       "4                            False                      False   \n",
       "...                            ...                        ...   \n",
       "146995                       False                      False   \n",
       "146996                       False                      False   \n",
       "146997                       False                       True   \n",
       "146998                       False                      False   \n",
       "146999                       False                       True   \n",
       "\n",
       "        Product.Category_electronics  Product.Category_health & beauty  \\\n",
       "0                               True                             False   \n",
       "1                              False                             False   \n",
       "2                              False                             False   \n",
       "3                              False                              True   \n",
       "4                               True                             False   \n",
       "...                              ...                               ...   \n",
       "146995                         False                             False   \n",
       "146996                          True                             False   \n",
       "146997                         False                              True   \n",
       "146998                         False                             False   \n",
       "146999                          True                             False   \n",
       "\n",
       "        Product.Category_home & garden  Product.Category_toys & games  \\\n",
       "0                                False                          False   \n",
       "1                                 True                          False   \n",
       "2                                False                           True   \n",
       "3                                False                          False   \n",
       "4                                False                          False   \n",
       "...                                ...                            ...   \n",
       "146995                           False                           True   \n",
       "146996                           False                          False   \n",
       "146997                           False                          False   \n",
       "146998                           False                           True   \n",
       "146999                           False                          False   \n",
       "\n",
       "        Device.Used_mobile  Device.Used_tablet  Address.Match_1  \n",
       "0                    False                True             True  \n",
       "1                    False               False             True  \n",
       "2                    False               False             True  \n",
       "3                     True               False             True  \n",
       "4                    False               False             True  \n",
       "...                    ...                 ...              ...  \n",
       "146995               False                True             True  \n",
       "146996                True               False             True  \n",
       "146997                True               False             True  \n",
       "146998                True               False             True  \n",
       "146999               False               False             True  \n",
       "\n",
       "[147000 rows x 23 columns]"
      ]
     },
     "execution_count": 34,
     "metadata": {},
     "output_type": "execute_result"
    }
   ],
   "source": [
    "X"
   ]
  },
  {
   "cell_type": "code",
   "execution_count": 35,
   "id": "2fecb52b-775f-4b7c-a77f-76155a8a12e0",
   "metadata": {},
   "outputs": [],
   "source": [
    "smote = SMOTE(sampling_strategy=0.11, random_state=42,k_neighbors=5)\n",
    "X,y=smote.fit_resample(X,y)"
   ]
  },
  {
   "cell_type": "code",
   "execution_count": 36,
   "id": "63c4e8b4-48c9-4dca-90f5-62b0a351254d",
   "metadata": {},
   "outputs": [],
   "source": [
    "merged = pd.concat([X, y], axis=1, ignore_index=True)\n",
    "\n",
    "#merged.to_csv(\"trainDataSMOTE.csv\")"
   ]
  },
  {
   "cell_type": "code",
   "execution_count": 37,
   "id": "15615c23",
   "metadata": {},
   "outputs": [
    {
     "data": {
      "text/plain": [
       "0.0990952318055739"
      ]
     },
     "execution_count": 37,
     "metadata": {},
     "output_type": "execute_result"
    }
   ],
   "source": [
    "merged.loc[merged[23]==1].shape[0]/merged.shape[0]  # IsFraudulent ratio after SMOTE"
   ]
  },
  {
   "cell_type": "markdown",
   "id": "78fe945a",
   "metadata": {},
   "source": [
    "Wzrost o 2 punkty procentowe"
   ]
  },
  {
   "cell_type": "markdown",
   "id": "bd7c964c",
   "metadata": {},
   "source": [
    "---\n",
    "# WALIDACJA\n",
    "\n",
    "Zastosowanie SMOTE było konieczne z racji tego że faktycznych przypadków is.Fraudulent jest około 10 procent. Jednak przykładów powinno zostać dodanych trochę więcej niż 45 procent ponieważ dane są mocno niezbalansowane."
   ]
  },
  {
   "cell_type": "markdown",
   "id": "788ec7f4",
   "metadata": {},
   "source": [
    "**Odpowiedź zespołu**: Ostatecznie zrezygnowaliśmy z technik augmentacji danych, między innymi ze względu na specyfikę branży, której dotyczą dane, oraz budzące obawy wady technik augmentacji, takie jak zaburzanie reprezentatywności próbki danych"
   ]
  },
  {
   "cell_type": "markdown",
   "id": "31460924-e157-455b-9d26-cb27d7cdbf22",
   "metadata": {},
   "source": [
    "## Zmienne czasowe"
   ]
  },
  {
   "cell_type": "markdown",
   "id": "77425fd5",
   "metadata": {},
   "source": [
    "Utworzenie zmiennych reprezentujących miesiąc oraz dzień miesiąca"
   ]
  },
  {
   "cell_type": "code",
   "execution_count": 12,
   "id": "a65db747-9b95-40ce-814f-386bd7845944",
   "metadata": {},
   "outputs": [
    {
     "data": {
      "text/plain": [
       "Text(0.5, 1.0, 'Frauds by day of month')"
      ]
     },
     "execution_count": 12,
     "metadata": {},
     "output_type": "execute_result"
    },
    {
     "data": {
      "image/png": "[encoded data removed]",
      "text/plain": [
       "<Figure size 640x480 with 1 Axes>"
      ]
     },
     "metadata": {},
     "output_type": "display_data"
    }
   ],
   "source": [
    "df[\"month\"]=df[\"Transaction.Date\"].dt.month\n",
    "df[\"day\"]=df[\"Transaction.Date\"].dt.day\n",
    "sns.histplot(df, x=\"day\", hue=\"Is.Fraudulent\", multiple=\"dodge\") #seems in first part of months there are more frauds\n",
    "plt.title(\"Frauds by day of month\")"
   ]
  },
  {
   "cell_type": "markdown",
   "id": "5f9bf528",
   "metadata": {},
   "source": [
    "Binarny podział transakcji ze względu na część miesiąca, w której została dokonana"
   ]
  },
  {
   "cell_type": "code",
   "execution_count": 13,
   "id": "c20e5637-7fdd-47ed-9b46-727618225250",
   "metadata": {
    "jupyter": {
     "source_hidden": true
    }
   },
   "outputs": [
    {
     "name": "stdout",
     "output_type": "stream",
     "text": [
      "12 0.1056458861018057\n"
     ]
    }
   ],
   "source": [
    "# splitting days of month for two categories\n",
    "maximalSplit=0\n",
    "output=0\n",
    "for i in range(1,31):\n",
    "    df[\"partOfMonth\"]=df[\"day\"].apply(lambda x: \"First\" if x<=i else \"Second\") \n",
    "    temp1=df.loc[(df[\"partOfMonth\"]==\"First\") & df[\"Is.Fraudulent\"]==1].shape[0]/df.loc[(df[\"partOfMonth\"]==\"First\")].shape[0] #fraud rate\n",
    "    if temp1>maximalSplit: \n",
    "        maximalSplit=temp1 \n",
    "        output=i\n",
    "print(output,maximalSplit) # thus 12 best split"
   ]
  },
  {
   "cell_type": "code",
   "execution_count": 14,
   "id": "514fc738-c903-4c92-99bd-609d9bc45dec",
   "metadata": {},
   "outputs": [],
   "source": [
    "df[\"partOfMonth\"]=df[\"day\"].apply(lambda x: \"First\" if x<=12 else \"Second\")"
   ]
  },
  {
   "cell_type": "markdown",
   "id": "8d08f634",
   "metadata": {},
   "source": [
    "Więcej oszustw w pierwszej części miesiąca, tj. w dniach 1-12"
   ]
  },
  {
   "cell_type": "code",
   "execution_count": 15,
   "id": "b4e21c06-7c12-4fc7-86ee-db829706aa21",
   "metadata": {
    "scrolled": true
   },
   "outputs": [
    {
     "data": {
      "text/plain": [
       "<Axes: xlabel='partOfMonth', ylabel='Count'>"
      ]
     },
     "execution_count": 15,
     "metadata": {},
     "output_type": "execute_result"
    },
    {
     "data": {
      "image/png": "[encoded data removed]",
      "text/plain": [
       "<Figure size 640x480 with 1 Axes>"
      ]
     },
     "metadata": {},
     "output_type": "display_data"
    }
   ],
   "source": [
    "sns.histplot(data=df,x=\"partOfMonth\",hue=\"Is.Fraudulent\",multiple=\"dodge\" ) "
   ]
  },
  {
   "cell_type": "markdown",
   "id": "f5d6bdc4",
   "metadata": {},
   "source": [
    "Utworzenie okresowości miesięcy oraz godzin transakcji"
   ]
  },
  {
   "cell_type": "code",
   "execution_count": 16,
   "id": "dce881c1-5ebb-430f-96e4-f492a2a4efb7",
   "metadata": {},
   "outputs": [],
   "source": [
    "# Convert Month to Sinusoidal Representation\n",
    "df[\"month_sin\"] = np.sin(2 * np.pi * df[\"month\"] / 12)\n",
    "df[\"month_cos\"] = np.cos(2 * np.pi * df[\"month\"] / 12)\n",
    "\n",
    "# Convert Hour to Sinusoidal Representation\n",
    "df[\"hour_sin\"] = np.sin(2 * np.pi * df[\"Transaction.Hour\"] / 24)\n",
    "df[\"hour_cos\"] = np.cos(2 * np.pi * df[\"Transaction.Hour\"] / 24)\n",
    "\n",
    "df[\"hour_angle\"] = np.arctan2(df[\"hour_sin\"], df[\"hour_cos\"])\n",
    "df[\"month_angle\"]=np.arctan2(df[\"month_sin\"],df[\"month_cos\"]) "
   ]
  },
  {
   "cell_type": "markdown",
   "id": "26af5577",
   "metadata": {},
   "source": [
    "Nie widać nic ciekawego"
   ]
  },
  {
   "cell_type": "code",
   "execution_count": 17,
   "id": "3b28a067-1ad4-45f9-bff3-09d2237b2b48",
   "metadata": {},
   "outputs": [
    {
     "data": {
      "image/png": "[encoded data removed]",
      "text/plain": [
       "<Figure size 1000x600 with 1 Axes>"
      ]
     },
     "metadata": {},
     "output_type": "display_data"
    }
   ],
   "source": [
    "plt.figure(figsize=(10, 6))\n",
    "sns.boxplot(data=df, x='Is.Fraudulent', y='month_angle')\n",
    "plt.title('Distribution of Month Angle by Fraud Status')\n",
    "plt.xlabel('Fraud Status')\n",
    "plt.ylabel('Month Angle (radians)')\n",
    "plt.show()"
   ]
  },
  {
   "cell_type": "code",
   "execution_count": 18,
   "id": "c4a7592c",
   "metadata": {},
   "outputs": [
    {
     "data": {
      "text/html": [
       "<div>\n",
       "<style scoped>\n",
       "    .dataframe tbody tr th:only-of-type {\n",
       "        vertical-align: middle;\n",
       "    }\n",
       "\n",
       "    .dataframe tbody tr th {\n",
       "        vertical-align: top;\n",
       "    }\n",
       "\n",
       "    .dataframe thead th {\n",
       "        text-align: right;\n",
       "    }\n",
       "</style>\n",
       "<table border=\"1\" class=\"dataframe\">\n",
       "  <thead>\n",
       "    <tr style=\"text-align: right;\">\n",
       "      <th></th>\n",
       "      <th>month</th>\n",
       "      <th>month_angle</th>\n",
       "    </tr>\n",
       "  </thead>\n",
       "  <tbody>\n",
       "    <tr>\n",
       "      <th>12</th>\n",
       "      <td>1</td>\n",
       "      <td>0.52</td>\n",
       "    </tr>\n",
       "    <tr>\n",
       "      <th>5</th>\n",
       "      <td>2</td>\n",
       "      <td>1.05</td>\n",
       "    </tr>\n",
       "    <tr>\n",
       "      <th>0</th>\n",
       "      <td>3</td>\n",
       "      <td>1.57</td>\n",
       "    </tr>\n",
       "    <tr>\n",
       "      <th>6</th>\n",
       "      <td>4</td>\n",
       "      <td>2.09</td>\n",
       "    </tr>\n",
       "    <tr>\n",
       "      <th>23</th>\n",
       "      <td>5</td>\n",
       "      <td>2.62</td>\n",
       "    </tr>\n",
       "    <tr>\n",
       "      <th>3</th>\n",
       "      <td>6</td>\n",
       "      <td>3.14</td>\n",
       "    </tr>\n",
       "    <tr>\n",
       "      <th>36</th>\n",
       "      <td>7</td>\n",
       "      <td>-2.62</td>\n",
       "    </tr>\n",
       "    <tr>\n",
       "      <th>11</th>\n",
       "      <td>8</td>\n",
       "      <td>-2.09</td>\n",
       "    </tr>\n",
       "    <tr>\n",
       "      <th>13</th>\n",
       "      <td>9</td>\n",
       "      <td>-1.57</td>\n",
       "    </tr>\n",
       "    <tr>\n",
       "      <th>46</th>\n",
       "      <td>10</td>\n",
       "      <td>-1.05</td>\n",
       "    </tr>\n",
       "    <tr>\n",
       "      <th>77</th>\n",
       "      <td>11</td>\n",
       "      <td>-0.52</td>\n",
       "    </tr>\n",
       "    <tr>\n",
       "      <th>923</th>\n",
       "      <td>12</td>\n",
       "      <td>-0.00</td>\n",
       "    </tr>\n",
       "  </tbody>\n",
       "</table>\n",
       "</div>"
      ],
      "text/plain": [
       "     month  month_angle\n",
       "12       1         0.52\n",
       "5        2         1.05\n",
       "0        3         1.57\n",
       "6        4         2.09\n",
       "23       5         2.62\n",
       "3        6         3.14\n",
       "36       7        -2.62\n",
       "11       8        -2.09\n",
       "13       9        -1.57\n",
       "46      10        -1.05\n",
       "77      11        -0.52\n",
       "923     12        -0.00"
      ]
     },
     "execution_count": 18,
     "metadata": {},
     "output_type": "execute_result"
    }
   ],
   "source": [
    "df.loc[:,[\"month\", \"month_angle\"]].drop_duplicates().sort_values(by=\"month\").round(2) # which angle stands for which month"
   ]
  },
  {
   "cell_type": "markdown",
   "id": "e3b065f5",
   "metadata": {},
   "source": [
    "Nie widać nic ciekawego"
   ]
  },
  {
   "cell_type": "code",
   "execution_count": 19,
   "id": "df425608-ea1c-461c-aadd-f7b6caf126f4",
   "metadata": {},
   "outputs": [
    {
     "data": {
      "image/png": "[encoded data removed]",
      "text/plain": [
       "<Figure size 1000x600 with 1 Axes>"
      ]
     },
     "metadata": {},
     "output_type": "display_data"
    }
   ],
   "source": [
    "df.loc[:,[\"Transaction.Hour\", \"hour_angle\"]].drop_duplicates().sort_values(by=\"Transaction.Hour\").round(2)\n",
    "plt.figure(figsize=(10, 6))\n",
    "sns.boxplot(data=df, x='Is.Fraudulent', y='hour_angle')\n",
    "plt.title('Distribution of Hour Angle by Fraud Status')\n",
    "plt.xlabel('Fraud Status')\n",
    "plt.ylabel('Hour Angle (radians)')\n",
    "plt.show()"
   ]
  },
  {
   "cell_type": "code",
   "execution_count": 20,
   "id": "00085ee3-47ed-4874-82fe-df6753fbf07a",
   "metadata": {},
   "outputs": [
    {
     "data": {
      "text/html": [
       "<div>\n",
       "<style scoped>\n",
       "    .dataframe tbody tr th:only-of-type {\n",
       "        vertical-align: middle;\n",
       "    }\n",
       "\n",
       "    .dataframe tbody tr th {\n",
       "        vertical-align: top;\n",
       "    }\n",
       "\n",
       "    .dataframe thead th {\n",
       "        text-align: right;\n",
       "    }\n",
       "</style>\n",
       "<table border=\"1\" class=\"dataframe\">\n",
       "  <thead>\n",
       "    <tr style=\"text-align: right;\">\n",
       "      <th></th>\n",
       "      <th>Transaction.Hour</th>\n",
       "      <th>hour_angle</th>\n",
       "    </tr>\n",
       "  </thead>\n",
       "  <tbody>\n",
       "    <tr>\n",
       "      <th>0</th>\n",
       "      <td>0</td>\n",
       "      <td>0.00</td>\n",
       "    </tr>\n",
       "    <tr>\n",
       "      <th>1</th>\n",
       "      <td>1</td>\n",
       "      <td>0.26</td>\n",
       "    </tr>\n",
       "    <tr>\n",
       "      <th>2</th>\n",
       "      <td>2</td>\n",
       "      <td>0.52</td>\n",
       "    </tr>\n",
       "    <tr>\n",
       "      <th>3</th>\n",
       "      <td>3</td>\n",
       "      <td>0.79</td>\n",
       "    </tr>\n",
       "    <tr>\n",
       "      <th>4</th>\n",
       "      <td>4</td>\n",
       "      <td>1.05</td>\n",
       "    </tr>\n",
       "    <tr>\n",
       "      <th>5</th>\n",
       "      <td>5</td>\n",
       "      <td>1.31</td>\n",
       "    </tr>\n",
       "    <tr>\n",
       "      <th>6</th>\n",
       "      <td>6</td>\n",
       "      <td>1.57</td>\n",
       "    </tr>\n",
       "    <tr>\n",
       "      <th>7</th>\n",
       "      <td>7</td>\n",
       "      <td>1.83</td>\n",
       "    </tr>\n",
       "    <tr>\n",
       "      <th>8</th>\n",
       "      <td>8</td>\n",
       "      <td>2.09</td>\n",
       "    </tr>\n",
       "    <tr>\n",
       "      <th>9</th>\n",
       "      <td>9</td>\n",
       "      <td>2.36</td>\n",
       "    </tr>\n",
       "    <tr>\n",
       "      <th>10</th>\n",
       "      <td>10</td>\n",
       "      <td>2.62</td>\n",
       "    </tr>\n",
       "    <tr>\n",
       "      <th>11</th>\n",
       "      <td>11</td>\n",
       "      <td>2.88</td>\n",
       "    </tr>\n",
       "    <tr>\n",
       "      <th>12</th>\n",
       "      <td>12</td>\n",
       "      <td>3.14</td>\n",
       "    </tr>\n",
       "    <tr>\n",
       "      <th>13</th>\n",
       "      <td>13</td>\n",
       "      <td>-2.88</td>\n",
       "    </tr>\n",
       "    <tr>\n",
       "      <th>14</th>\n",
       "      <td>14</td>\n",
       "      <td>-2.62</td>\n",
       "    </tr>\n",
       "    <tr>\n",
       "      <th>15</th>\n",
       "      <td>15</td>\n",
       "      <td>-2.36</td>\n",
       "    </tr>\n",
       "    <tr>\n",
       "      <th>16</th>\n",
       "      <td>16</td>\n",
       "      <td>-2.09</td>\n",
       "    </tr>\n",
       "    <tr>\n",
       "      <th>17</th>\n",
       "      <td>17</td>\n",
       "      <td>-1.83</td>\n",
       "    </tr>\n",
       "    <tr>\n",
       "      <th>18</th>\n",
       "      <td>18</td>\n",
       "      <td>-1.57</td>\n",
       "    </tr>\n",
       "    <tr>\n",
       "      <th>19</th>\n",
       "      <td>19</td>\n",
       "      <td>-1.31</td>\n",
       "    </tr>\n",
       "    <tr>\n",
       "      <th>20</th>\n",
       "      <td>20</td>\n",
       "      <td>-1.05</td>\n",
       "    </tr>\n",
       "    <tr>\n",
       "      <th>21</th>\n",
       "      <td>21</td>\n",
       "      <td>-0.79</td>\n",
       "    </tr>\n",
       "    <tr>\n",
       "      <th>22</th>\n",
       "      <td>22</td>\n",
       "      <td>-0.52</td>\n",
       "    </tr>\n",
       "    <tr>\n",
       "      <th>23</th>\n",
       "      <td>23</td>\n",
       "      <td>-0.26</td>\n",
       "    </tr>\n",
       "  </tbody>\n",
       "</table>\n",
       "</div>"
      ],
      "text/plain": [
       "    Transaction.Hour  hour_angle\n",
       "0                  0        0.00\n",
       "1                  1        0.26\n",
       "2                  2        0.52\n",
       "3                  3        0.79\n",
       "4                  4        1.05\n",
       "5                  5        1.31\n",
       "6                  6        1.57\n",
       "7                  7        1.83\n",
       "8                  8        2.09\n",
       "9                  9        2.36\n",
       "10                10        2.62\n",
       "11                11        2.88\n",
       "12                12        3.14\n",
       "13                13       -2.88\n",
       "14                14       -2.62\n",
       "15                15       -2.36\n",
       "16                16       -2.09\n",
       "17                17       -1.83\n",
       "18                18       -1.57\n",
       "19                19       -1.31\n",
       "20                20       -1.05\n",
       "21                21       -0.79\n",
       "22                22       -0.52\n",
       "23                23       -0.26"
      ]
     },
     "execution_count": 20,
     "metadata": {},
     "output_type": "execute_result"
    }
   ],
   "source": [
    " # which angle stands for which hour\n",
    "df.loc[:,[\"Transaction.Hour\", \"hour_angle\"]].drop_duplicates().sort_values(by=\"Transaction.Hour\").reset_index(drop=True).round(2)"
   ]
  },
  {
   "cell_type": "markdown",
   "id": "fdb28cfd",
   "metadata": {},
   "source": [
    "# Utworzenie nowych cech:\n",
    "* czy osoby przypisane do konta dokonującego transkacji są młode lub są seniorami,\n",
    "* indykator transkacji opiewających na najwyższe kwoty,\n",
    "* dzień tygodnia"
   ]
  },
  {
   "cell_type": "markdown",
   "id": "b3a4f174-b0a1-465e-ac1b-6c77218b0315",
   "metadata": {},
   "source": [
    "## Nieletni"
   ]
  },
  {
   "cell_type": "markdown",
   "id": "a738ffba",
   "metadata": {},
   "source": [
    "raczej nic ciekawego"
   ]
  },
  {
   "cell_type": "code",
   "execution_count": 21,
   "id": "77929052-c6e3-41fc-a8b5-8579367311ae",
   "metadata": {},
   "outputs": [
    {
     "name": "stdout",
     "output_type": "stream",
     "text": [
      "percentage of minors: 2.2829931972789113\n",
      "percentage of frauds in minors: 5.214541120381407\n"
     ]
    }
   ],
   "source": [
    "df[\"Is.Minor\"]=df[\"Customer.Age\"].apply(lambda x : True if x<18 else False) \n",
    "print(\"percentage of minors:\", sum(df[\"Is.Minor\"])/df.shape[0] * 100)\n",
    "\n",
    "print(\"percentage of frauds in minors:\", df.loc[(df[\"Is.Minor\"] == 1) & (df[\"Is.Fraudulent\"] == 1)].shape[0]/df.loc[df[\"Is.Minor\"]==1].shape[0]*100)"
   ]
  },
  {
   "cell_type": "markdown",
   "id": "99c0b348",
   "metadata": {},
   "source": [
    "## Seniorzy"
   ]
  },
  {
   "cell_type": "code",
   "execution_count": 39,
   "id": "f244c5ff",
   "metadata": {},
   "outputs": [
    {
     "name": "stdout",
     "output_type": "stream",
     "text": [
      "percentage of seniors: 0.33129251700680273\n",
      "percentage of frauds in seniors: 6.7761806981519515\n"
     ]
    }
   ],
   "source": [
    "df[\"Is.Senior\"]=df[\"Customer.Age\"].apply(lambda x : True if x>60 else False) \n",
    "print(\"percentage of seniors:\", sum(df[\"Is.Senior\"])/df.shape[0] * 100)\n",
    "\n",
    "print(\"percentage of frauds in seniors:\", df.loc[(df[\"Is.Senior\"] == 1) & (df[\"Is.Fraudulent\"] == 1)].shape[0]/df.loc[df[\"Is.Senior\"]==1].shape[0]*100)"
   ]
  },
  {
   "cell_type": "markdown",
   "id": "8a6c6afb",
   "metadata": {},
   "source": [
    "raczej nic ciekawego"
   ]
  },
  {
   "cell_type": "code",
   "execution_count": 50,
   "id": "5c99a951",
   "metadata": {},
   "outputs": [
    {
     "data": {
      "text/plain": [
       "<Axes: xlabel='Is.Fraudulent', ylabel='Is.Senior'>"
      ]
     },
     "execution_count": 50,
     "metadata": {},
     "output_type": "execute_result"
    },
    {
     "data": {
      "image/png": "[encoded data removed]",
      "text/plain": [
       "<Figure size 640x480 with 2 Axes>"
      ]
     },
     "metadata": {},
     "output_type": "display_data"
    }
   ],
   "source": [
    "cross = pd.crosstab(df[\"Is.Senior\"], df[\"Is.Fraudulent\"], normalize=\"index\")\n",
    "sns.heatmap(cross, annot = True, cmap=\"Blues\")"
   ]
  },
  {
   "cell_type": "markdown",
   "id": "34294604-a9ef-49dd-93d0-94d5abb1d1e5",
   "metadata": {},
   "source": [
    "## Wysokie kwoty transakcji"
   ]
  },
  {
   "cell_type": "markdown",
   "id": "07d4f055",
   "metadata": {},
   "source": [
    "nic ciekawego"
   ]
  },
  {
   "cell_type": "code",
   "execution_count": 26,
   "id": "1df73da4-dd56-4566-869d-0b52d90d6717",
   "metadata": {
    "scrolled": true
   },
   "outputs": [
    {
     "name": "stdout",
     "output_type": "stream",
     "text": [
      "Is.HighAmount 5.0\n",
      "percentage of frauds high amount: 15.496598639455783\n"
     ]
    }
   ],
   "source": [
    "#NOTHING FANCY\n",
    "HighAmountInt=df[\"Transaction.Amount\"].quantile(0.95)\n",
    "df[\"Is.HighAmount\"]=df[\"Transaction.Amount\"].apply(lambda x : True if x>=HighAmountInt else False) \n",
    "\n",
    "print(\"Is.HighAmount\", sum(df[\"Is.HighAmount\"])/df.shape[0] * 100)\n",
    "\n",
    "print(\"percentage of frauds high amount:\", df.loc[(df[\"Is.HighAmount\"] == 1) & (df[\"Is.Fraudulent\"] == 1)].shape[0]/df.loc[df[\"Is.HighAmount\"]==1].shape[0]*100)\n",
    "\n",
    "\n",
    "# FRAUDS RATHER NOT IN HIGH AMOUNTS"
   ]
  },
  {
   "cell_type": "markdown",
   "id": "f8342194-ea5b-44e4-bc62-dc67110fb70d",
   "metadata": {},
   "source": [
    "## Dzień tygodnia"
   ]
  },
  {
   "cell_type": "code",
   "execution_count": 24,
   "id": "5b65e224-b1c7-4007-8c02-1a849eead502",
   "metadata": {},
   "outputs": [
    {
     "data": {
      "text/plain": [
       "<Axes: xlabel='Transaction.Weekday', ylabel='Count'>"
      ]
     },
     "execution_count": 24,
     "metadata": {},
     "output_type": "execute_result"
    },
    {
     "data": {
      "image/png": "[encoded data removed]",
      "text/plain": [
       "<Figure size 640x480 with 1 Axes>"
      ]
     },
     "metadata": {},
     "output_type": "display_data"
    }
   ],
   "source": [
    "# DAY OF THE WEEK \n",
    "  # Ensure it's in datetime format\n",
    "df[\"Transaction.Weekday\"] = df[\"Transaction.Date\"].dt.weekday + 1  # 1 = Monday, 7 = Sunday\n",
    "sns.histplot(data=df,x=\"Transaction.Weekday\",hue=\"Is.Fraudulent\",multiple=\"dodge\") "
   ]
  },
  {
   "cell_type": "markdown",
   "id": "a9148c41",
   "metadata": {},
   "source": [
    "nic ciekawego"
   ]
  },
  {
   "cell_type": "code",
   "execution_count": 25,
   "id": "b53c829f-357d-418d-976a-01cf71b9c578",
   "metadata": {},
   "outputs": [
    {
     "name": "stdout",
     "output_type": "stream",
     "text": [
      "1-th day: 0.0738 fraud rate\n",
      "2-th day: 0.0634 fraud rate\n",
      "3-th day: 0.0662 fraud rate\n",
      "4-th day: 0.0737 fraud rate\n",
      "5-th day: 0.0764 fraud rate\n",
      "6-th day: 0.0741 fraud rate\n",
      "7-th day: 0.0765 fraud rate\n"
     ]
    }
   ],
   "source": [
    "#PERHAPS?\n",
    "for i in range(1, 8): \n",
    "    fraud_count = df.loc[(df[\"Transaction.Weekday\"] == i) & (df[\"Is.Fraudulent\"] == 1)].shape[0]\n",
    "    total_count = df.loc[df[\"Transaction.Weekday\"] == i].shape[0]\n",
    "    fraud_rate = fraud_count / total_count if total_count > 0 else 0  \n",
    "    print(f\"{i}-th day: {fraud_rate:.4f} fraud rate\")"
   ]
  },
  {
   "cell_type": "code",
   "execution_count": 33,
   "id": "efc8c439-bbe1-48ec-8aa0-832fe94b2595",
   "metadata": {},
   "outputs": [
    {
     "data": {
      "text/plain": [
       "source\n",
       "SEO       58886\n",
       "Ads       58380\n",
       "Direct    29734\n",
       "Name: count, dtype: int64"
      ]
     },
     "execution_count": 33,
     "metadata": {},
     "output_type": "execute_result"
    }
   ],
   "source": [
    "df[\"source\"].value_counts() "
   ]
  },
  {
   "cell_type": "markdown",
   "id": "c38044ab",
   "metadata": {},
   "source": [
    "nic ciekawego"
   ]
  },
  {
   "cell_type": "code",
   "execution_count": 42,
   "id": "61fb9e8d-4a87-4303-b37d-55685ed71b12",
   "metadata": {},
   "outputs": [
    {
     "data": {
      "text/plain": [
       "<Axes: xlabel='Payment.Method', ylabel='Count'>"
      ]
     },
     "execution_count": 42,
     "metadata": {},
     "output_type": "execute_result"
    },
    {
     "data": {
      "image/png": "[encoded data removed]",
      "text/plain": [
       "<Figure size 640x480 with 1 Axes>"
      ]
     },
     "metadata": {},
     "output_type": "display_data"
    }
   ],
   "source": [
    "sns.histplot(data=df,x=\"Payment.Method\",hue=\"Is.Fraudulent\",multiple=\"dodge\") "
   ]
  },
  {
   "cell_type": "code",
   "execution_count": 51,
   "id": "d910ed40-af61-46a2-94dc-e52b308b6d43",
   "metadata": {},
   "outputs": [],
   "source": [
    "temp = df.groupby(\"Is.Fraudulent\")[\"Payment.Method\"].value_counts() "
   ]
  },
  {
   "cell_type": "code",
   "execution_count": 52,
   "id": "52d11027-7031-4c26-bd31-b28b9d094251",
   "metadata": {},
   "outputs": [
    {
     "data": {
      "text/plain": [
       "Is.Fraudulent  Payment.Method\n",
       "0              credit card       34416\n",
       "               PayPal            34239\n",
       "               debit card        33904\n",
       "               bank transfer     33856\n",
       "1              debit card         2691\n",
       "               bank transfer      2634\n",
       "               credit card        2632\n",
       "               PayPal             2628\n",
       "Name: count, dtype: int64"
      ]
     },
     "execution_count": 52,
     "metadata": {},
     "output_type": "execute_result"
    }
   ],
   "source": [
    "temp "
   ]
  },
  {
   "cell_type": "markdown",
   "id": "a1780d03",
   "metadata": {},
   "source": [
    "## Wnioski\n",
    "Jedyna odkryta zauważalna zależność to zwiększona liczba oszustw w pierwszych 12 dniach miesiąca w porównaniu do jego pozostałej części"
   ]
  },
  {
   "cell_type": "markdown",
   "id": "4802d63f",
   "metadata": {},
   "source": [
    "---\n",
    "# WALIDACJA\n",
    "Można dodać więcej cech czasowych, np. czy transakcja odbywa się w weekend. Struktura zbiorów (treningowy, walidacyjny, testowy) jest dobrze zrobiona. Więcej komentarzy byłoby bardzo mile widziane."
   ]
  }
 ],
 "metadata": {
  "kernelspec": {
   "display_name": "Python 3 (ipykernel)",
   "language": "python",
   "name": "python3"
  },
  "language_info": {
   "codemirror_mode": {
    "name": "ipython",
    "version": 3
   },
   "file_extension": ".py",
   "mimetype": "text/x-python",
   "name": "python",
   "nbconvert_exporter": "python",
   "pygments_lexer": "ipython3",
   "version": "3.11.9"
  }
 },
 "nbformat": 4,
 "nbformat_minor": 5
}
